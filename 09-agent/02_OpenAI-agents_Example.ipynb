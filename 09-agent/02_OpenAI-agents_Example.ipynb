{
 "cells": [
  {
   "cell_type": "markdown",
   "metadata": {},
   "source": [
    "# 02. Agent Examples"
   ]
  },
  {
   "cell_type": "code",
   "execution_count": 6,
   "metadata": {
    "colab": {
     "base_uri": "https://localhost:8080/"
    },
    "id": "yzni0b_DSLm2",
    "outputId": "14b01c5d-e23f-43ab-b65d-a30715238c20",
    "tags": []
   },
   "outputs": [],
   "source": [
    "import os\n",
    "from getpass import getpass\n",
    "\n",
    "os.environ[\"OPENAI_API_KEY\"] = os.getenv(\"OPENAI_API_KEY\") or \\\n",
    "  getpass(\"Enter your OpenAI API key: \")"
   ]
  },
  {
   "cell_type": "code",
   "execution_count": 7,
   "metadata": {
    "id": "Pfdarpu9So_g",
    "tags": []
   },
   "outputs": [],
   "source": [
    "import nest_asyncio\n",
    "nest_asyncio.apply()"
   ]
  },
  {
   "cell_type": "code",
   "execution_count": 8,
   "metadata": {
    "id": "hyCg6c1P4PqB",
    "tags": []
   },
   "outputs": [],
   "source": [
    "MENU_PRICES = \"\"\"\n",
    "\n",
    "# AI Master Burger Menu (2025)\n",
    "\n",
    "**가격은 대략적인 가격이며 변경될 수 있습니다.**\n",
    "\n",
    "## Burgers & Combos\n",
    "\n",
    "| Item                                    | Price  |\n",
    "|-----------------------------------------|--------|\n",
    "| Additional Burger Patty (per extra)     | $1.30  |\n",
    "| Additional Cheese Slice (per extra)     | $0.50  |\n",
    "| **Hamburger**                           | $3.60  |\n",
    "| **Hamburger Combo**                     | $8.15  |\n",
    "| **Cheeseburger**                        | $4.10  |\n",
    "| **Cheeseburger Combo**                  | $8.65  |\n",
    "| **Double Double®**                      | $5.90  |\n",
    "| **Double Double® Combo**                | $10.45 |\n",
    "| **French Fries**                        | $2.30  |\n",
    "\n",
    "## Beverages\n",
    "\n",
    "| Item                                        | Price  |\n",
    "|---------------------------------------------|--------|\n",
    "| **Coffee**                                  | $1.35  |\n",
    "| **Hot Cocoa**                               | $2.25  |\n",
    "| **Milk**                                    | $0.99  |\n",
    "| **Shakes** (Chocolate, Strawberry, Vanilla) | $3.00  |\n",
    "| **Soda (Small)**                            | $2.10  |\n",
    "| **Soda (Medium)**                           | $2.25  |\n",
    "| **Soda (Large)**                            | $2.45  |\n",
    "| **Soda (X‑Large)**                          | $2.65  |\n",
    "\n",
    "## Not‑So‑Secret Menu Options\n",
    "\n",
    "- 프로틴 스타일 버거:** 번 대신 양상추로 감싼 모든 버거.\n",
    "- 애니멀 스타일:** 머스터드로 조리한 소고기 패티, 엑스트라 스프레드, 피클, 구운 양파와 함께 제공되는 버거 또는 감자튀김.\n",
    "\n",
    "부가세는 별도 입니다.\n",
    "\n",
    "부가세(tax) is 10.00%\n",
    "\n",
    "---\"\"\""
   ]
  },
  {
   "cell_type": "code",
   "execution_count": 9,
   "metadata": {
    "id": "_LyYbSg64UE9",
    "tags": []
   },
   "outputs": [],
   "source": [
    "from agents import Agent, Runner\n",
    "\n",
    "agent = Agent(\n",
    "    name=\"AI Master Cashier Assistant\",\n",
    "    instructions=f\"너는 AI Master 버거의 도움이 되는 에이전트로 아래 메뉴에 따라 질문에 답변합니다:: \\n\\n{MENU_PRICES}\",\n",
    "    model=\"gpt-4o-mini\"\n",
    ")"
   ]
  },
  {
   "cell_type": "code",
   "execution_count": 10,
   "metadata": {
    "colab": {
     "base_uri": "https://localhost:8080/"
    },
    "id": "2ABT_Ay09qGA",
    "outputId": "841df23c-3440-47ec-cbe2-61a65bcc98a3",
    "tags": []
   },
   "outputs": [
    {
     "name": "stdout",
     "output_type": "stream",
     "text": [
      "**Double Double®**의 가격은 $5.90입니다.\n"
     ]
    }
   ],
   "source": [
    "result = Runner.run_sync(agent, \"Double Double은 얼마입니까?.\")\n",
    "print(result.final_output)"
   ]
  },
  {
   "cell_type": "code",
   "execution_count": 11,
   "metadata": {
    "colab": {
     "base_uri": "https://localhost:8080/"
    },
    "id": "x3Rn1j5S-erx",
    "outputId": "91806a6a-fd20-43f6-e78d-3efa1e97ea31",
    "tags": []
   },
   "outputs": [
    {
     "name": "stdout",
     "output_type": "stream",
     "text": [
      "Double Double® Combo의 가격은 $10.45입니다.\n"
     ]
    }
   ],
   "source": [
    "result = await Runner.run(agent, \"Double Double combo의 가격은 얼마에요?\")\n",
    "print(result.final_output)"
   ]
  },
  {
   "cell_type": "code",
   "execution_count": 12,
   "metadata": {
    "colab": {
     "base_uri": "https://localhost:8080/"
    },
    "id": "s0DxNofd-mmz",
    "outputId": "17d99ed1-d76f-47fb-bc3a-e641b7a8a6ca",
    "tags": []
   },
   "outputs": [
    {
     "name": "stdout",
     "output_type": "stream",
     "text": [
      "**Double Double®**의 가격은 $5.90이며, **French Fries**의 가격은 $2.30입니다. 따라서 두 항목의 총 가격은 $5.90 + $2.30 = $8.20입니다. 부가세(10%)를 포함하면 총 가격은 $9.02가 됩니다.\n"
     ]
    }
   ],
   "source": [
    "result = await Runner.run(agent, \"Double Double과 감자 튀김 가격은?.\")\n",
    "print(result.final_output)"
   ]
  },
  {
   "cell_type": "code",
   "execution_count": 13,
   "metadata": {
    "colab": {
     "base_uri": "https://localhost:8080/"
    },
    "id": "BS0jWlBV_CPo",
    "outputId": "82b31267-d0fa-4e04-8fff-ef6710344f8c",
    "tags": []
   },
   "outputs": [
    {
     "name": "stdout",
     "output_type": "stream",
     "text": [
      "더블 더블® 콤보 하나의 가격은 $10.45입니다. 감자튀김이 포함되어 있으므로 이 가격을 사용하겠습니다.\n",
      "\n",
      "32개 주문 시:\n",
      "\n",
      "- 더블 더블® 콤보 가격: $10.45 × 32 = $334.40\n",
      "\n",
      "부가세 10%를 추가로 계산해보겠습니다:\n",
      "\n",
      "- 부가세: $334.40 × 0.10 = $33.44\n",
      "\n",
      "총합계는:\n",
      "\n",
      "- $334.40 + $33.44 = $367.84\n",
      "\n",
      "따라서, 감자튀김이 포함된 더블 더블 32개의 총 가격은 **$367.84**입니다.\n"
     ]
    }
   ],
   "source": [
    "result = await Runner.run(agent, \"감자튀김이 포함된 더블더블 32개(세금 포함)는 얼마인가요?.\")\n",
    "print(result.final_output)"
   ]
  },
  {
   "cell_type": "markdown",
   "metadata": {
    "id": "tPLScDgsWSr0"
   },
   "source": [
    "## Streaming"
   ]
  },
  {
   "cell_type": "code",
   "execution_count": 14,
   "metadata": {
    "colab": {
     "base_uri": "https://localhost:8080/"
    },
    "id": "Q2HFn4FzWXZt",
    "outputId": "c6257fa0-19d2-41be-86f8-c3fc47af1032",
    "tags": []
   },
   "outputs": [
    {
     "name": "stdout",
     "output_type": "stream",
     "text": [
      "여기 OpenAI 버거 메뉴에 있는 모든 아이템의 가격입니다:\n",
      "\n",
      "### Burgers & Combos\n",
      "- 추가 버거 패티 (per extra): $1.30\n",
      "- 추가 치즈 슬라이스 (per extra): $0.50\n",
      "- 햄버거: $3.60\n",
      "- 햄버거 콤보: $8.15\n",
      "- 치즈버거: $4.10\n",
      "- 치즈버거 콤보: $8.65\n",
      "- 더블 더블®: $5.90\n",
      "- 더블 더블® 콤보: $10.45\n",
      "- 프렌치 프라이: $2.30\n",
      "\n",
      "### Beverages\n",
      "- 커피: $1.35\n",
      "- 핫 코코아: $2.25\n",
      "- 우유: $0.99\n",
      "- 쉐이크 (초콜릿, 딸기, 바닐라): $3.00\n",
      "- 소다 (스몰): $2.10\n",
      "- 소다 (미디움): $2.25\n",
      "- 소다 (라지): $2.45\n",
      "- 소다 (엑스트라 라지): $2.65\n",
      "\n",
      "부가세는 별도입니다."
     ]
    }
   ],
   "source": [
    "import asyncio\n",
    "from openai.types.responses import ResponseTextDeltaEvent\n",
    "from agents import Agent, Runner\n",
    "\n",
    "result = Runner.run_streamed(agent, input=\"메뉴에 있는 모든 메뉴의 가격은 얼마인가요?.\")\n",
    "async for event in result.stream_events():\n",
    "    if event.type == \"raw_response_event\" and isinstance(event.data, ResponseTextDeltaEvent):\n",
    "        print(event.data.delta, end=\"\", flush=True)"
   ]
  },
  {
   "cell_type": "code",
   "execution_count": 15,
   "metadata": {
    "id": "p__DsHYqhdY8",
    "tags": []
   },
   "outputs": [
    {
     "data": {
      "text/plain": [
       "RunResultStreaming(input='메뉴에 있는 모든 메뉴의 가격은 얼마인가요?.', new_items=[MessageOutputItem(agent=Agent(name='OpenAI Cashier Assistant', instructions='너는 OpenAI 버거의 도움이 되는 에이전트로 아래 메뉴에 따라 질문에 답변합니다:: \\n\\n\\n\\n# OpenAI Burger Menu (2025)\\n\\n**가격은 대략적인 가격이며 변경될 수 있습니다.**\\n\\n## Burgers & Combos\\n\\n| Item                                    | Price  |\\n|-----------------------------------------|--------|\\n| Additional Burger Patty (per extra)     | $1.30  |\\n| Additional Cheese Slice (per extra)     | $0.50  |\\n| **Hamburger**                           | $3.60  |\\n| **Hamburger Combo**                     | $8.15  |\\n| **Cheeseburger**                        | $4.10  |\\n| **Cheeseburger Combo**                  | $8.65  |\\n| **Double Double®**                      | $5.90  |\\n| **Double Double® Combo**                | $10.45 |\\n| **French Fries**                        | $2.30  |\\n\\n## Beverages\\n\\n| Item                                        | Price  |\\n|---------------------------------------------|--------|\\n| **Coffee**                                  | $1.35  |\\n| **Hot Cocoa**                               | $2.25  |\\n| **Milk**                                    | $0.99  |\\n| **Shakes** (Chocolate, Strawberry, Vanilla) | $3.00  |\\n| **Soda (Small)**                            | $2.10  |\\n| **Soda (Medium)**                           | $2.25  |\\n| **Soda (Large)**                            | $2.45  |\\n| **Soda (X‑Large)**                          | $2.65  |\\n\\n## Not‑So‑Secret Menu Options\\n\\n- 프로틴 스타일 버거:** 번 대신 양상추로 감싼 모든 버거.\\n- 애니멀 스타일:** 머스터드로 조리한 소고기 패티, 엑스트라 스프레드, 피클, 구운 양파와 함께 제공되는 버거 또는 감자튀김.\\n\\n부가세는 별도 입니다.\\n\\n부가세(tax) is 10.00%\\n\\n---', handoff_description=None, handoffs=[], model='gpt-4o-mini', model_settings=ModelSettings(temperature=None, top_p=None, frequency_penalty=None, presence_penalty=None, tool_choice=None, parallel_tool_calls=False, truncation=None, max_tokens=None), tools=[], input_guardrails=[], output_guardrails=[], output_type=None, hooks=None, tool_use_behavior='run_llm_again'), raw_item=ResponseOutputMessage(id='msg_67ded590e9888191bd7ab9e44493dd9208d1944b256f4760', content=[ResponseOutputText(annotations=[], text='여기 OpenAI 버거 메뉴에 있는 모든 아이템의 가격입니다:\\n\\n### Burgers & Combos\\n- 추가 버거 패티 (per extra): $1.30\\n- 추가 치즈 슬라이스 (per extra): $0.50\\n- 햄버거: $3.60\\n- 햄버거 콤보: $8.15\\n- 치즈버거: $4.10\\n- 치즈버거 콤보: $8.65\\n- 더블 더블®: $5.90\\n- 더블 더블® 콤보: $10.45\\n- 프렌치 프라이: $2.30\\n\\n### Beverages\\n- 커피: $1.35\\n- 핫 코코아: $2.25\\n- 우유: $0.99\\n- 쉐이크 (초콜릿, 딸기, 바닐라): $3.00\\n- 소다 (스몰): $2.10\\n- 소다 (미디움): $2.25\\n- 소다 (라지): $2.45\\n- 소다 (엑스트라 라지): $2.65\\n\\n부가세는 별도입니다.', type='output_text')], role='assistant', status='completed', type='message'), type='message_output_item')], raw_responses=[ModelResponse(output=[ResponseOutputMessage(id='msg_67ded590e9888191bd7ab9e44493dd9208d1944b256f4760', content=[ResponseOutputText(annotations=[], text='여기 OpenAI 버거 메뉴에 있는 모든 아이템의 가격입니다:\\n\\n### Burgers & Combos\\n- 추가 버거 패티 (per extra): $1.30\\n- 추가 치즈 슬라이스 (per extra): $0.50\\n- 햄버거: $3.60\\n- 햄버거 콤보: $8.15\\n- 치즈버거: $4.10\\n- 치즈버거 콤보: $8.65\\n- 더블 더블®: $5.90\\n- 더블 더블® 콤보: $10.45\\n- 프렌치 프라이: $2.30\\n\\n### Beverages\\n- 커피: $1.35\\n- 핫 코코아: $2.25\\n- 우유: $0.99\\n- 쉐이크 (초콜릿, 딸기, 바닐라): $3.00\\n- 소다 (스몰): $2.10\\n- 소다 (미디움): $2.25\\n- 소다 (라지): $2.45\\n- 소다 (엑스트라 라지): $2.65\\n\\n부가세는 별도입니다.', type='output_text')], role='assistant', status='completed', type='message')], usage=Usage(requests=1, input_tokens=473, output_tokens=262, total_tokens=735), referenceable_id='resp_67ded59077b08191b54c14dd67b795d208d1944b256f4760')], final_output='여기 OpenAI 버거 메뉴에 있는 모든 아이템의 가격입니다:\\n\\n### Burgers & Combos\\n- 추가 버거 패티 (per extra): $1.30\\n- 추가 치즈 슬라이스 (per extra): $0.50\\n- 햄버거: $3.60\\n- 햄버거 콤보: $8.15\\n- 치즈버거: $4.10\\n- 치즈버거 콤보: $8.65\\n- 더블 더블®: $5.90\\n- 더블 더블® 콤보: $10.45\\n- 프렌치 프라이: $2.30\\n\\n### Beverages\\n- 커피: $1.35\\n- 핫 코코아: $2.25\\n- 우유: $0.99\\n- 쉐이크 (초콜릿, 딸기, 바닐라): $3.00\\n- 소다 (스몰): $2.10\\n- 소다 (미디움): $2.25\\n- 소다 (라지): $2.45\\n- 소다 (엑스트라 라지): $2.65\\n\\n부가세는 별도입니다.', input_guardrail_results=[], output_guardrail_results=[], current_agent=Agent(name='OpenAI Cashier Assistant', instructions='너는 OpenAI 버거의 도움이 되는 에이전트로 아래 메뉴에 따라 질문에 답변합니다:: \\n\\n\\n\\n# OpenAI Burger Menu (2025)\\n\\n**가격은 대략적인 가격이며 변경될 수 있습니다.**\\n\\n## Burgers & Combos\\n\\n| Item                                    | Price  |\\n|-----------------------------------------|--------|\\n| Additional Burger Patty (per extra)     | $1.30  |\\n| Additional Cheese Slice (per extra)     | $0.50  |\\n| **Hamburger**                           | $3.60  |\\n| **Hamburger Combo**                     | $8.15  |\\n| **Cheeseburger**                        | $4.10  |\\n| **Cheeseburger Combo**                  | $8.65  |\\n| **Double Double®**                      | $5.90  |\\n| **Double Double® Combo**                | $10.45 |\\n| **French Fries**                        | $2.30  |\\n\\n## Beverages\\n\\n| Item                                        | Price  |\\n|---------------------------------------------|--------|\\n| **Coffee**                                  | $1.35  |\\n| **Hot Cocoa**                               | $2.25  |\\n| **Milk**                                    | $0.99  |\\n| **Shakes** (Chocolate, Strawberry, Vanilla) | $3.00  |\\n| **Soda (Small)**                            | $2.10  |\\n| **Soda (Medium)**                           | $2.25  |\\n| **Soda (Large)**                            | $2.45  |\\n| **Soda (X‑Large)**                          | $2.65  |\\n\\n## Not‑So‑Secret Menu Options\\n\\n- 프로틴 스타일 버거:** 번 대신 양상추로 감싼 모든 버거.\\n- 애니멀 스타일:** 머스터드로 조리한 소고기 패티, 엑스트라 스프레드, 피클, 구운 양파와 함께 제공되는 버거 또는 감자튀김.\\n\\n부가세는 별도 입니다.\\n\\n부가세(tax) is 10.00%\\n\\n---', handoff_description=None, handoffs=[], model='gpt-4o-mini', model_settings=ModelSettings(temperature=None, top_p=None, frequency_penalty=None, presence_penalty=None, tool_choice=None, parallel_tool_calls=False, truncation=None, max_tokens=None), tools=[], input_guardrails=[], output_guardrails=[], output_type=None, hooks=None, tool_use_behavior='run_llm_again'), current_turn=1, max_turns=10, is_complete=True)"
      ]
     },
     "execution_count": 15,
     "metadata": {},
     "output_type": "execute_result"
    }
   ],
   "source": [
    "result"
   ]
  },
  {
   "cell_type": "code",
   "execution_count": 16,
   "metadata": {
    "colab": {
     "base_uri": "https://localhost:8080/"
    },
    "id": "j6ad-l1kAe8o",
    "outputId": "9e90748a-c2db-486d-c246-a20d8f9e0748",
    "tags": []
   },
   "outputs": [
    {
     "name": "stdout",
     "output_type": "stream",
     "text": [
      "=== Run starting ===\n",
      "Agent updated: OpenAI Cashier Assistant\n",
      "-- Message output:\n",
      " 더블 더블® Combo는 $10.45입니다. 감자튀김과 음료가 포함되어 있습니다. \n",
      "\n",
      "32개를 주문하면:\n",
      "\n",
      "\\[\n",
      "10.45 \\times 32 = 334.40\n",
      "\\]\n",
      "\n",
      "부가세 10%를 추가하면:\n",
      "\n",
      "\\[\n",
      "334.40 \\times 0.10 = 33.44\n",
      "\\]\n",
      "\n",
      "총액은:\n",
      "\n",
      "\\[\n",
      "334.40 + 33.44 = 367.84\n",
      "\\]\n",
      "\n",
      "따라서, 더블 더블 Combo 32개의 총 가격은 $367.84입니다.\n",
      "=== Run complete ===\n"
     ]
    }
   ],
   "source": [
    "import asyncio\n",
    "import random\n",
    "from agents import Agent, ItemHelpers, Runner, function_tool\n",
    "\n",
    "result = Runner.run_streamed(\n",
    "    agent,\n",
    "    input=\"감자튀김이 포함된 더블더블 32개는 얼마인가요?.\",\n",
    ")\n",
    "print(\"=== Run starting ===\")\n",
    "\n",
    "async for event in result.stream_events():\n",
    "    # We'll ignore the raw responses event deltas\n",
    "    if event.type == \"raw_response_event\":\n",
    "        continue\n",
    "    # When the agent updates, print that\n",
    "    elif event.type == \"agent_updated_stream_event\":\n",
    "        print(f\"Agent updated: {event.new_agent.name}\")\n",
    "        continue\n",
    "    # When items are generated, print them\n",
    "    elif event.type == \"run_item_stream_event\":\n",
    "        if event.item.type == \"tool_call_item\":\n",
    "            print(\"-- Tool was called\")\n",
    "        elif event.item.type == \"tool_call_output_item\":\n",
    "            print(f\"-- Tool output: {event.item.output}\")\n",
    "        elif event.item.type == \"message_output_item\":\n",
    "            print(f\"-- Message output:\\n {ItemHelpers.text_message_output(event.item)}\")\n",
    "        else:\n",
    "            pass  # Ignore other event types\n",
    "\n",
    "print(\"=== Run complete ===\")"
   ]
  },
  {
   "cell_type": "markdown",
   "metadata": {
    "id": "t5Vm12nO-oub"
   },
   "source": [
    "### Adding Tools"
   ]
  },
  {
   "cell_type": "code",
   "execution_count": 17,
   "metadata": {
    "cellView": "code",
    "id": "frZyY7rhDfz9",
    "tags": []
   },
   "outputs": [],
   "source": [
    "from agents import Agent, Runner, function_tool\n",
    "\n",
    "@function_tool\n",
    "async def calculate_tax(order_total: float, tax_rate: float) -> str:\n",
    "    print(f\"[debug] calculating tax function called order:{order_total} tax:{tax_rate}\")\n",
    "    \"\"\"입력 금액(float)과 세율(float)을 기준으로 지정된 주문 총액에 대한 세금을 계산합니다.\n",
    "    Args:\n",
    "        주문_총액: 세전 주문 총액입니다.\n",
    "        위치: 주문의 위치입니다. 기본값은 캘리포니아주 로스앤젤레스로 설정됩니다.\n",
    "    \"\"\"\n",
    "    \n",
    "    tax_rate = 0.0725  # Default tax rate for Los Angeles, CA\n",
    "    tax_amount = order_total * tax_rate\n",
    "    total_with_tax = order_total + tax_amount\n",
    "    return f\"주문에 대한 세금은 다음과 같습니다. ${tax_amount:.2f}. 세금 포함 총액은 다음과 같습니다. ${total_with_tax:.2f}.\"\n"
   ]
  },
  {
   "cell_type": "code",
   "execution_count": 18,
   "metadata": {
    "id": "0iLHI6VkAbZd",
    "tags": []
   },
   "outputs": [],
   "source": [
    "agent = Agent(\n",
    "    name=\"AI Master Cashier Assistant\",\n",
    "    instructions=f\"AI Master 버거의 Assistants로 아래 메뉴에 따라 질문에 답변합니다: \\n\\n{MENU_PRICES}\",\n",
    "    model=\"gpt-4o-mini\",\n",
    "    tools=[calculate_tax]\n",
    ")"
   ]
  },
  {
   "cell_type": "code",
   "execution_count": 19,
   "metadata": {
    "colab": {
     "base_uri": "https://localhost:8080/"
    },
    "id": "_dubs3HVEbP9",
    "outputId": "044c3b98-0279-4de6-c35d-448ef271991a",
    "tags": []
   },
   "outputs": [
    {
     "name": "stdout",
     "output_type": "stream",
     "text": [
      "[debug] calculating tax function called order:52.25 tax:10.0\n",
      "[debug] calculating tax function called order:11.5 tax:10.0\n",
      "더블더블 콤보 5인분의 총 가격은 **$56.04**입니다. (세금 포함: $3.79)\n"
     ]
    }
   ],
   "source": [
    "result = await Runner.run(agent, \"감자튀김이 포함된 더블더블 5인분은 얼마인가요?.\")\n",
    "print(result.final_output)"
   ]
  },
  {
   "cell_type": "code",
   "execution_count": 20,
   "metadata": {
    "colab": {
     "base_uri": "https://localhost:8080/"
    },
    "id": "iY1MF_0iYTms",
    "outputId": "22e39d6c-cd31-49d4-f5d2-c01f4abadd7c",
    "tags": []
   },
   "outputs": [
    {
     "data": {
      "text/plain": [
       "43.972500000000004"
      ]
     },
     "execution_count": 20,
     "metadata": {},
     "output_type": "execute_result"
    }
   ],
   "source": [
    "41.0 *1.0725"
   ]
  },
  {
   "cell_type": "code",
   "execution_count": 21,
   "metadata": {
    "id": "S3p3z3fWFfC6",
    "tags": []
   },
   "outputs": [
    {
     "data": {
      "text/plain": [
       "RunResult(input='감자튀김이 포함된 더블더블 5인분은 얼마인가요?.', new_items=[ToolCallItem(agent=Agent(name='In-N-Out Cashier Assistant', instructions='OpenAI 버거의 Assistants로 아래 메뉴에 따라 질문에 답변합니다: \\n\\n\\n\\n# OpenAI Burger Menu (2025)\\n\\n**가격은 대략적인 가격이며 변경될 수 있습니다.**\\n\\n## Burgers & Combos\\n\\n| Item                                    | Price  |\\n|-----------------------------------------|--------|\\n| Additional Burger Patty (per extra)     | $1.30  |\\n| Additional Cheese Slice (per extra)     | $0.50  |\\n| **Hamburger**                           | $3.60  |\\n| **Hamburger Combo**                     | $8.15  |\\n| **Cheeseburger**                        | $4.10  |\\n| **Cheeseburger Combo**                  | $8.65  |\\n| **Double Double®**                      | $5.90  |\\n| **Double Double® Combo**                | $10.45 |\\n| **French Fries**                        | $2.30  |\\n\\n## Beverages\\n\\n| Item                                        | Price  |\\n|---------------------------------------------|--------|\\n| **Coffee**                                  | $1.35  |\\n| **Hot Cocoa**                               | $2.25  |\\n| **Milk**                                    | $0.99  |\\n| **Shakes** (Chocolate, Strawberry, Vanilla) | $3.00  |\\n| **Soda (Small)**                            | $2.10  |\\n| **Soda (Medium)**                           | $2.25  |\\n| **Soda (Large)**                            | $2.45  |\\n| **Soda (X‑Large)**                          | $2.65  |\\n\\n## Not‑So‑Secret Menu Options\\n\\n- 프로틴 스타일 버거:** 번 대신 양상추로 감싼 모든 버거.\\n- 애니멀 스타일:** 머스터드로 조리한 소고기 패티, 엑스트라 스프레드, 피클, 구운 양파와 함께 제공되는 버거 또는 감자튀김.\\n\\n부가세는 별도 입니다.\\n\\n부가세(tax) is 10.00%\\n\\n---', handoff_description=None, handoffs=[], model='gpt-4o-mini', model_settings=ModelSettings(temperature=None, top_p=None, frequency_penalty=None, presence_penalty=None, tool_choice=None, parallel_tool_calls=False, truncation=None, max_tokens=None), tools=[FunctionTool(name='calculate_tax', description='', params_json_schema={'properties': {'order_total': {'title': 'Order Total', 'type': 'number'}, 'tax_rate': {'title': 'Tax Rate', 'type': 'number'}}, 'required': ['order_total', 'tax_rate'], 'title': 'calculate_tax_args', 'type': 'object', 'additionalProperties': False}, on_invoke_tool=<function function_tool.<locals>._create_function_tool.<locals>._on_invoke_tool at 0x7f14a8f5eca0>, strict_json_schema=True)], input_guardrails=[], output_guardrails=[], output_type=None, hooks=None, tool_use_behavior='run_llm_again'), raw_item=ResponseFunctionToolCall(arguments='{\"order_total\":52.25,\"tax_rate\":10}', call_id='call_AlBfdNYFHFdJDeLnctYpkA0q', name='calculate_tax', type='function_call', id='fc_67ded67c1acc8191a9c9987c609e1e240c206e7ba0747f0c', status='completed'), type='tool_call_item'), ToolCallItem(agent=Agent(name='In-N-Out Cashier Assistant', instructions='OpenAI 버거의 Assistants로 아래 메뉴에 따라 질문에 답변합니다: \\n\\n\\n\\n# OpenAI Burger Menu (2025)\\n\\n**가격은 대략적인 가격이며 변경될 수 있습니다.**\\n\\n## Burgers & Combos\\n\\n| Item                                    | Price  |\\n|-----------------------------------------|--------|\\n| Additional Burger Patty (per extra)     | $1.30  |\\n| Additional Cheese Slice (per extra)     | $0.50  |\\n| **Hamburger**                           | $3.60  |\\n| **Hamburger Combo**                     | $8.15  |\\n| **Cheeseburger**                        | $4.10  |\\n| **Cheeseburger Combo**                  | $8.65  |\\n| **Double Double®**                      | $5.90  |\\n| **Double Double® Combo**                | $10.45 |\\n| **French Fries**                        | $2.30  |\\n\\n## Beverages\\n\\n| Item                                        | Price  |\\n|---------------------------------------------|--------|\\n| **Coffee**                                  | $1.35  |\\n| **Hot Cocoa**                               | $2.25  |\\n| **Milk**                                    | $0.99  |\\n| **Shakes** (Chocolate, Strawberry, Vanilla) | $3.00  |\\n| **Soda (Small)**                            | $2.10  |\\n| **Soda (Medium)**                           | $2.25  |\\n| **Soda (Large)**                            | $2.45  |\\n| **Soda (X‑Large)**                          | $2.65  |\\n\\n## Not‑So‑Secret Menu Options\\n\\n- 프로틴 스타일 버거:** 번 대신 양상추로 감싼 모든 버거.\\n- 애니멀 스타일:** 머스터드로 조리한 소고기 패티, 엑스트라 스프레드, 피클, 구운 양파와 함께 제공되는 버거 또는 감자튀김.\\n\\n부가세는 별도 입니다.\\n\\n부가세(tax) is 10.00%\\n\\n---', handoff_description=None, handoffs=[], model='gpt-4o-mini', model_settings=ModelSettings(temperature=None, top_p=None, frequency_penalty=None, presence_penalty=None, tool_choice=None, parallel_tool_calls=False, truncation=None, max_tokens=None), tools=[FunctionTool(name='calculate_tax', description='', params_json_schema={'properties': {'order_total': {'title': 'Order Total', 'type': 'number'}, 'tax_rate': {'title': 'Tax Rate', 'type': 'number'}}, 'required': ['order_total', 'tax_rate'], 'title': 'calculate_tax_args', 'type': 'object', 'additionalProperties': False}, on_invoke_tool=<function function_tool.<locals>._create_function_tool.<locals>._on_invoke_tool at 0x7f14a8f5eca0>, strict_json_schema=True)], input_guardrails=[], output_guardrails=[], output_type=None, hooks=None, tool_use_behavior='run_llm_again'), raw_item=ResponseFunctionToolCall(arguments='{\"order_total\":11.5,\"tax_rate\":10}', call_id='call_6ZaucGTfSyZbm7aV9gCO0cUK', name='calculate_tax', type='function_call', id='fc_67ded67c85c88191aa103b3aadf343c90c206e7ba0747f0c', status='completed'), type='tool_call_item'), ToolCallOutputItem(agent=Agent(name='In-N-Out Cashier Assistant', instructions='OpenAI 버거의 Assistants로 아래 메뉴에 따라 질문에 답변합니다: \\n\\n\\n\\n# OpenAI Burger Menu (2025)\\n\\n**가격은 대략적인 가격이며 변경될 수 있습니다.**\\n\\n## Burgers & Combos\\n\\n| Item                                    | Price  |\\n|-----------------------------------------|--------|\\n| Additional Burger Patty (per extra)     | $1.30  |\\n| Additional Cheese Slice (per extra)     | $0.50  |\\n| **Hamburger**                           | $3.60  |\\n| **Hamburger Combo**                     | $8.15  |\\n| **Cheeseburger**                        | $4.10  |\\n| **Cheeseburger Combo**                  | $8.65  |\\n| **Double Double®**                      | $5.90  |\\n| **Double Double® Combo**                | $10.45 |\\n| **French Fries**                        | $2.30  |\\n\\n## Beverages\\n\\n| Item                                        | Price  |\\n|---------------------------------------------|--------|\\n| **Coffee**                                  | $1.35  |\\n| **Hot Cocoa**                               | $2.25  |\\n| **Milk**                                    | $0.99  |\\n| **Shakes** (Chocolate, Strawberry, Vanilla) | $3.00  |\\n| **Soda (Small)**                            | $2.10  |\\n| **Soda (Medium)**                           | $2.25  |\\n| **Soda (Large)**                            | $2.45  |\\n| **Soda (X‑Large)**                          | $2.65  |\\n\\n## Not‑So‑Secret Menu Options\\n\\n- 프로틴 스타일 버거:** 번 대신 양상추로 감싼 모든 버거.\\n- 애니멀 스타일:** 머스터드로 조리한 소고기 패티, 엑스트라 스프레드, 피클, 구운 양파와 함께 제공되는 버거 또는 감자튀김.\\n\\n부가세는 별도 입니다.\\n\\n부가세(tax) is 10.00%\\n\\n---', handoff_description=None, handoffs=[], model='gpt-4o-mini', model_settings=ModelSettings(temperature=None, top_p=None, frequency_penalty=None, presence_penalty=None, tool_choice=None, parallel_tool_calls=False, truncation=None, max_tokens=None), tools=[FunctionTool(name='calculate_tax', description='', params_json_schema={'properties': {'order_total': {'title': 'Order Total', 'type': 'number'}, 'tax_rate': {'title': 'Tax Rate', 'type': 'number'}}, 'required': ['order_total', 'tax_rate'], 'title': 'calculate_tax_args', 'type': 'object', 'additionalProperties': False}, on_invoke_tool=<function function_tool.<locals>._create_function_tool.<locals>._on_invoke_tool at 0x7f14a8f5eca0>, strict_json_schema=True)], input_guardrails=[], output_guardrails=[], output_type=None, hooks=None, tool_use_behavior='run_llm_again'), raw_item={'call_id': 'call_AlBfdNYFHFdJDeLnctYpkA0q', 'output': '주문에 대한 세금은 다음과 같습니다. $3.79. 세금 포함 총액은 다음과 같습니다. $56.04.', 'type': 'function_call_output'}, output='주문에 대한 세금은 다음과 같습니다. $3.79. 세금 포함 총액은 다음과 같습니다. $56.04.', type='tool_call_output_item'), ToolCallOutputItem(agent=Agent(name='In-N-Out Cashier Assistant', instructions='OpenAI 버거의 Assistants로 아래 메뉴에 따라 질문에 답변합니다: \\n\\n\\n\\n# OpenAI Burger Menu (2025)\\n\\n**가격은 대략적인 가격이며 변경될 수 있습니다.**\\n\\n## Burgers & Combos\\n\\n| Item                                    | Price  |\\n|-----------------------------------------|--------|\\n| Additional Burger Patty (per extra)     | $1.30  |\\n| Additional Cheese Slice (per extra)     | $0.50  |\\n| **Hamburger**                           | $3.60  |\\n| **Hamburger Combo**                     | $8.15  |\\n| **Cheeseburger**                        | $4.10  |\\n| **Cheeseburger Combo**                  | $8.65  |\\n| **Double Double®**                      | $5.90  |\\n| **Double Double® Combo**                | $10.45 |\\n| **French Fries**                        | $2.30  |\\n\\n## Beverages\\n\\n| Item                                        | Price  |\\n|---------------------------------------------|--------|\\n| **Coffee**                                  | $1.35  |\\n| **Hot Cocoa**                               | $2.25  |\\n| **Milk**                                    | $0.99  |\\n| **Shakes** (Chocolate, Strawberry, Vanilla) | $3.00  |\\n| **Soda (Small)**                            | $2.10  |\\n| **Soda (Medium)**                           | $2.25  |\\n| **Soda (Large)**                            | $2.45  |\\n| **Soda (X‑Large)**                          | $2.65  |\\n\\n## Not‑So‑Secret Menu Options\\n\\n- 프로틴 스타일 버거:** 번 대신 양상추로 감싼 모든 버거.\\n- 애니멀 스타일:** 머스터드로 조리한 소고기 패티, 엑스트라 스프레드, 피클, 구운 양파와 함께 제공되는 버거 또는 감자튀김.\\n\\n부가세는 별도 입니다.\\n\\n부가세(tax) is 10.00%\\n\\n---', handoff_description=None, handoffs=[], model='gpt-4o-mini', model_settings=ModelSettings(temperature=None, top_p=None, frequency_penalty=None, presence_penalty=None, tool_choice=None, parallel_tool_calls=False, truncation=None, max_tokens=None), tools=[FunctionTool(name='calculate_tax', description='', params_json_schema={'properties': {'order_total': {'title': 'Order Total', 'type': 'number'}, 'tax_rate': {'title': 'Tax Rate', 'type': 'number'}}, 'required': ['order_total', 'tax_rate'], 'title': 'calculate_tax_args', 'type': 'object', 'additionalProperties': False}, on_invoke_tool=<function function_tool.<locals>._create_function_tool.<locals>._on_invoke_tool at 0x7f14a8f5eca0>, strict_json_schema=True)], input_guardrails=[], output_guardrails=[], output_type=None, hooks=None, tool_use_behavior='run_llm_again'), raw_item={'call_id': 'call_6ZaucGTfSyZbm7aV9gCO0cUK', 'output': '주문에 대한 세금은 다음과 같습니다. $0.83. 세금 포함 총액은 다음과 같습니다. $12.33.', 'type': 'function_call_output'}, output='주문에 대한 세금은 다음과 같습니다. $0.83. 세금 포함 총액은 다음과 같습니다. $12.33.', type='tool_call_output_item'), MessageOutputItem(agent=Agent(name='In-N-Out Cashier Assistant', instructions='OpenAI 버거의 Assistants로 아래 메뉴에 따라 질문에 답변합니다: \\n\\n\\n\\n# OpenAI Burger Menu (2025)\\n\\n**가격은 대략적인 가격이며 변경될 수 있습니다.**\\n\\n## Burgers & Combos\\n\\n| Item                                    | Price  |\\n|-----------------------------------------|--------|\\n| Additional Burger Patty (per extra)     | $1.30  |\\n| Additional Cheese Slice (per extra)     | $0.50  |\\n| **Hamburger**                           | $3.60  |\\n| **Hamburger Combo**                     | $8.15  |\\n| **Cheeseburger**                        | $4.10  |\\n| **Cheeseburger Combo**                  | $8.65  |\\n| **Double Double®**                      | $5.90  |\\n| **Double Double® Combo**                | $10.45 |\\n| **French Fries**                        | $2.30  |\\n\\n## Beverages\\n\\n| Item                                        | Price  |\\n|---------------------------------------------|--------|\\n| **Coffee**                                  | $1.35  |\\n| **Hot Cocoa**                               | $2.25  |\\n| **Milk**                                    | $0.99  |\\n| **Shakes** (Chocolate, Strawberry, Vanilla) | $3.00  |\\n| **Soda (Small)**                            | $2.10  |\\n| **Soda (Medium)**                           | $2.25  |\\n| **Soda (Large)**                            | $2.45  |\\n| **Soda (X‑Large)**                          | $2.65  |\\n\\n## Not‑So‑Secret Menu Options\\n\\n- 프로틴 스타일 버거:** 번 대신 양상추로 감싼 모든 버거.\\n- 애니멀 스타일:** 머스터드로 조리한 소고기 패티, 엑스트라 스프레드, 피클, 구운 양파와 함께 제공되는 버거 또는 감자튀김.\\n\\n부가세는 별도 입니다.\\n\\n부가세(tax) is 10.00%\\n\\n---', handoff_description=None, handoffs=[], model='gpt-4o-mini', model_settings=ModelSettings(temperature=None, top_p=None, frequency_penalty=None, presence_penalty=None, tool_choice=None, parallel_tool_calls=False, truncation=None, max_tokens=None), tools=[FunctionTool(name='calculate_tax', description='', params_json_schema={'properties': {'order_total': {'title': 'Order Total', 'type': 'number'}, 'tax_rate': {'title': 'Tax Rate', 'type': 'number'}}, 'required': ['order_total', 'tax_rate'], 'title': 'calculate_tax_args', 'type': 'object', 'additionalProperties': False}, on_invoke_tool=<function function_tool.<locals>._create_function_tool.<locals>._on_invoke_tool at 0x7f14a8f5eca0>, strict_json_schema=True)], input_guardrails=[], output_guardrails=[], output_type=None, hooks=None, tool_use_behavior='run_llm_again'), raw_item=ResponseOutputMessage(id='msg_67ded67e1ec08191a215b265e18913ac0c206e7ba0747f0c', content=[ResponseOutputText(annotations=[], text='더블더블 콤보 5인분의 총 가격은 **$56.04**입니다. (세금 포함: $3.79)', type='output_text')], role='assistant', status='completed', type='message'), type='message_output_item')], raw_responses=[ModelResponse(output=[ResponseFunctionToolCall(arguments='{\"order_total\":52.25,\"tax_rate\":10}', call_id='call_AlBfdNYFHFdJDeLnctYpkA0q', name='calculate_tax', type='function_call', id='fc_67ded67c1acc8191a9c9987c609e1e240c206e7ba0747f0c', status='completed'), ResponseFunctionToolCall(arguments='{\"order_total\":11.5,\"tax_rate\":10}', call_id='call_6ZaucGTfSyZbm7aV9gCO0cUK', name='calculate_tax', type='function_call', id='fc_67ded67c85c88191aa103b3aadf343c90c206e7ba0747f0c', status='completed')], usage=Usage(requests=1, input_tokens=0, output_tokens=0, total_tokens=0), referenceable_id='resp_67ded67ae6448191874f3f1de694800c0c206e7ba0747f0c'), ModelResponse(output=[ResponseOutputMessage(id='msg_67ded67e1ec08191a215b265e18913ac0c206e7ba0747f0c', content=[ResponseOutputText(annotations=[], text='더블더블 콤보 5인분의 총 가격은 **$56.04**입니다. (세금 포함: $3.79)', type='output_text')], role='assistant', status='completed', type='message')], usage=Usage(requests=1, input_tokens=832, output_tokens=35, total_tokens=867), referenceable_id='resp_67ded67d69e88191821a9f79645f252a0c206e7ba0747f0c')], final_output='더블더블 콤보 5인분의 총 가격은 **$56.04**입니다. (세금 포함: $3.79)', input_guardrail_results=[], output_guardrail_results=[], _last_agent=Agent(name='In-N-Out Cashier Assistant', instructions='OpenAI 버거의 Assistants로 아래 메뉴에 따라 질문에 답변합니다: \\n\\n\\n\\n# OpenAI Burger Menu (2025)\\n\\n**가격은 대략적인 가격이며 변경될 수 있습니다.**\\n\\n## Burgers & Combos\\n\\n| Item                                    | Price  |\\n|-----------------------------------------|--------|\\n| Additional Burger Patty (per extra)     | $1.30  |\\n| Additional Cheese Slice (per extra)     | $0.50  |\\n| **Hamburger**                           | $3.60  |\\n| **Hamburger Combo**                     | $8.15  |\\n| **Cheeseburger**                        | $4.10  |\\n| **Cheeseburger Combo**                  | $8.65  |\\n| **Double Double®**                      | $5.90  |\\n| **Double Double® Combo**                | $10.45 |\\n| **French Fries**                        | $2.30  |\\n\\n## Beverages\\n\\n| Item                                        | Price  |\\n|---------------------------------------------|--------|\\n| **Coffee**                                  | $1.35  |\\n| **Hot Cocoa**                               | $2.25  |\\n| **Milk**                                    | $0.99  |\\n| **Shakes** (Chocolate, Strawberry, Vanilla) | $3.00  |\\n| **Soda (Small)**                            | $2.10  |\\n| **Soda (Medium)**                           | $2.25  |\\n| **Soda (Large)**                            | $2.45  |\\n| **Soda (X‑Large)**                          | $2.65  |\\n\\n## Not‑So‑Secret Menu Options\\n\\n- 프로틴 스타일 버거:** 번 대신 양상추로 감싼 모든 버거.\\n- 애니멀 스타일:** 머스터드로 조리한 소고기 패티, 엑스트라 스프레드, 피클, 구운 양파와 함께 제공되는 버거 또는 감자튀김.\\n\\n부가세는 별도 입니다.\\n\\n부가세(tax) is 10.00%\\n\\n---', handoff_description=None, handoffs=[], model='gpt-4o-mini', model_settings=ModelSettings(temperature=None, top_p=None, frequency_penalty=None, presence_penalty=None, tool_choice=None, parallel_tool_calls=False, truncation=None, max_tokens=None), tools=[FunctionTool(name='calculate_tax', description='', params_json_schema={'properties': {'order_total': {'title': 'Order Total', 'type': 'number'}, 'tax_rate': {'title': 'Tax Rate', 'type': 'number'}}, 'required': ['order_total', 'tax_rate'], 'title': 'calculate_tax_args', 'type': 'object', 'additionalProperties': False}, on_invoke_tool=<function function_tool.<locals>._create_function_tool.<locals>._on_invoke_tool at 0x7f14a8f5eca0>, strict_json_schema=True)], input_guardrails=[], output_guardrails=[], output_type=None, hooks=None, tool_use_behavior='run_llm_again'))"
      ]
     },
     "execution_count": 21,
     "metadata": {},
     "output_type": "execute_result"
    }
   ],
   "source": [
    "result"
   ]
  },
  {
   "cell_type": "code",
   "execution_count": 22,
   "metadata": {
    "id": "RMRBeps8F90T",
    "tags": []
   },
   "outputs": [
    {
     "name": "stdout",
     "output_type": "stream",
     "text": [
      "input: 감자튀김이 포함된 더블더블 5인분은 얼마인가요?.\n",
      "new_items: [ToolCallItem(agent=Agent(name='In-N-Out Cashier Assistant', instructions='OpenAI 버거의 Assistants로 아래 메뉴에 따라 질문에 답변합니다: \\n\\n\\n\\n# OpenAI Burger Menu (2025)\\n\\n**가격은 대략적인 가격이며 변경될 수 있습니다.**\\n\\n## Burgers & Combos\\n\\n| Item                                    | Price  |\\n|-----------------------------------------|--------|\\n| Additional Burger Patty (per extra)     | $1.30  |\\n| Additional Cheese Slice (per extra)     | $0.50  |\\n| **Hamburger**                           | $3.60  |\\n| **Hamburger Combo**                     | $8.15  |\\n| **Cheeseburger**                        | $4.10  |\\n| **Cheeseburger Combo**                  | $8.65  |\\n| **Double Double®**                      | $5.90  |\\n| **Double Double® Combo**                | $10.45 |\\n| **French Fries**                        | $2.30  |\\n\\n## Beverages\\n\\n| Item                                        | Price  |\\n|---------------------------------------------|--------|\\n| **Coffee**                                  | $1.35  |\\n| **Hot Cocoa**                               | $2.25  |\\n| **Milk**                                    | $0.99  |\\n| **Shakes** (Chocolate, Strawberry, Vanilla) | $3.00  |\\n| **Soda (Small)**                            | $2.10  |\\n| **Soda (Medium)**                           | $2.25  |\\n| **Soda (Large)**                            | $2.45  |\\n| **Soda (X‑Large)**                          | $2.65  |\\n\\n## Not‑So‑Secret Menu Options\\n\\n- 프로틴 스타일 버거:** 번 대신 양상추로 감싼 모든 버거.\\n- 애니멀 스타일:** 머스터드로 조리한 소고기 패티, 엑스트라 스프레드, 피클, 구운 양파와 함께 제공되는 버거 또는 감자튀김.\\n\\n부가세는 별도 입니다.\\n\\n부가세(tax) is 10.00%\\n\\n---', handoff_description=None, handoffs=[], model='gpt-4o-mini', model_settings=ModelSettings(temperature=None, top_p=None, frequency_penalty=None, presence_penalty=None, tool_choice=None, parallel_tool_calls=False, truncation=None, max_tokens=None), tools=[FunctionTool(name='calculate_tax', description='', params_json_schema={'properties': {'order_total': {'title': 'Order Total', 'type': 'number'}, 'tax_rate': {'title': 'Tax Rate', 'type': 'number'}}, 'required': ['order_total', 'tax_rate'], 'title': 'calculate_tax_args', 'type': 'object', 'additionalProperties': False}, on_invoke_tool=<function function_tool.<locals>._create_function_tool.<locals>._on_invoke_tool at 0x7f14a8f5eca0>, strict_json_schema=True)], input_guardrails=[], output_guardrails=[], output_type=None, hooks=None, tool_use_behavior='run_llm_again'), raw_item=ResponseFunctionToolCall(arguments='{\"order_total\":52.25,\"tax_rate\":10}', call_id='call_AlBfdNYFHFdJDeLnctYpkA0q', name='calculate_tax', type='function_call', id='fc_67ded67c1acc8191a9c9987c609e1e240c206e7ba0747f0c', status='completed'), type='tool_call_item'), ToolCallItem(agent=Agent(name='In-N-Out Cashier Assistant', instructions='OpenAI 버거의 Assistants로 아래 메뉴에 따라 질문에 답변합니다: \\n\\n\\n\\n# OpenAI Burger Menu (2025)\\n\\n**가격은 대략적인 가격이며 변경될 수 있습니다.**\\n\\n## Burgers & Combos\\n\\n| Item                                    | Price  |\\n|-----------------------------------------|--------|\\n| Additional Burger Patty (per extra)     | $1.30  |\\n| Additional Cheese Slice (per extra)     | $0.50  |\\n| **Hamburger**                           | $3.60  |\\n| **Hamburger Combo**                     | $8.15  |\\n| **Cheeseburger**                        | $4.10  |\\n| **Cheeseburger Combo**                  | $8.65  |\\n| **Double Double®**                      | $5.90  |\\n| **Double Double® Combo**                | $10.45 |\\n| **French Fries**                        | $2.30  |\\n\\n## Beverages\\n\\n| Item                                        | Price  |\\n|---------------------------------------------|--------|\\n| **Coffee**                                  | $1.35  |\\n| **Hot Cocoa**                               | $2.25  |\\n| **Milk**                                    | $0.99  |\\n| **Shakes** (Chocolate, Strawberry, Vanilla) | $3.00  |\\n| **Soda (Small)**                            | $2.10  |\\n| **Soda (Medium)**                           | $2.25  |\\n| **Soda (Large)**                            | $2.45  |\\n| **Soda (X‑Large)**                          | $2.65  |\\n\\n## Not‑So‑Secret Menu Options\\n\\n- 프로틴 스타일 버거:** 번 대신 양상추로 감싼 모든 버거.\\n- 애니멀 스타일:** 머스터드로 조리한 소고기 패티, 엑스트라 스프레드, 피클, 구운 양파와 함께 제공되는 버거 또는 감자튀김.\\n\\n부가세는 별도 입니다.\\n\\n부가세(tax) is 10.00%\\n\\n---', handoff_description=None, handoffs=[], model='gpt-4o-mini', model_settings=ModelSettings(temperature=None, top_p=None, frequency_penalty=None, presence_penalty=None, tool_choice=None, parallel_tool_calls=False, truncation=None, max_tokens=None), tools=[FunctionTool(name='calculate_tax', description='', params_json_schema={'properties': {'order_total': {'title': 'Order Total', 'type': 'number'}, 'tax_rate': {'title': 'Tax Rate', 'type': 'number'}}, 'required': ['order_total', 'tax_rate'], 'title': 'calculate_tax_args', 'type': 'object', 'additionalProperties': False}, on_invoke_tool=<function function_tool.<locals>._create_function_tool.<locals>._on_invoke_tool at 0x7f14a8f5eca0>, strict_json_schema=True)], input_guardrails=[], output_guardrails=[], output_type=None, hooks=None, tool_use_behavior='run_llm_again'), raw_item=ResponseFunctionToolCall(arguments='{\"order_total\":11.5,\"tax_rate\":10}', call_id='call_6ZaucGTfSyZbm7aV9gCO0cUK', name='calculate_tax', type='function_call', id='fc_67ded67c85c88191aa103b3aadf343c90c206e7ba0747f0c', status='completed'), type='tool_call_item'), ToolCallOutputItem(agent=Agent(name='In-N-Out Cashier Assistant', instructions='OpenAI 버거의 Assistants로 아래 메뉴에 따라 질문에 답변합니다: \\n\\n\\n\\n# OpenAI Burger Menu (2025)\\n\\n**가격은 대략적인 가격이며 변경될 수 있습니다.**\\n\\n## Burgers & Combos\\n\\n| Item                                    | Price  |\\n|-----------------------------------------|--------|\\n| Additional Burger Patty (per extra)     | $1.30  |\\n| Additional Cheese Slice (per extra)     | $0.50  |\\n| **Hamburger**                           | $3.60  |\\n| **Hamburger Combo**                     | $8.15  |\\n| **Cheeseburger**                        | $4.10  |\\n| **Cheeseburger Combo**                  | $8.65  |\\n| **Double Double®**                      | $5.90  |\\n| **Double Double® Combo**                | $10.45 |\\n| **French Fries**                        | $2.30  |\\n\\n## Beverages\\n\\n| Item                                        | Price  |\\n|---------------------------------------------|--------|\\n| **Coffee**                                  | $1.35  |\\n| **Hot Cocoa**                               | $2.25  |\\n| **Milk**                                    | $0.99  |\\n| **Shakes** (Chocolate, Strawberry, Vanilla) | $3.00  |\\n| **Soda (Small)**                            | $2.10  |\\n| **Soda (Medium)**                           | $2.25  |\\n| **Soda (Large)**                            | $2.45  |\\n| **Soda (X‑Large)**                          | $2.65  |\\n\\n## Not‑So‑Secret Menu Options\\n\\n- 프로틴 스타일 버거:** 번 대신 양상추로 감싼 모든 버거.\\n- 애니멀 스타일:** 머스터드로 조리한 소고기 패티, 엑스트라 스프레드, 피클, 구운 양파와 함께 제공되는 버거 또는 감자튀김.\\n\\n부가세는 별도 입니다.\\n\\n부가세(tax) is 10.00%\\n\\n---', handoff_description=None, handoffs=[], model='gpt-4o-mini', model_settings=ModelSettings(temperature=None, top_p=None, frequency_penalty=None, presence_penalty=None, tool_choice=None, parallel_tool_calls=False, truncation=None, max_tokens=None), tools=[FunctionTool(name='calculate_tax', description='', params_json_schema={'properties': {'order_total': {'title': 'Order Total', 'type': 'number'}, 'tax_rate': {'title': 'Tax Rate', 'type': 'number'}}, 'required': ['order_total', 'tax_rate'], 'title': 'calculate_tax_args', 'type': 'object', 'additionalProperties': False}, on_invoke_tool=<function function_tool.<locals>._create_function_tool.<locals>._on_invoke_tool at 0x7f14a8f5eca0>, strict_json_schema=True)], input_guardrails=[], output_guardrails=[], output_type=None, hooks=None, tool_use_behavior='run_llm_again'), raw_item={'call_id': 'call_AlBfdNYFHFdJDeLnctYpkA0q', 'output': '주문에 대한 세금은 다음과 같습니다. $3.79. 세금 포함 총액은 다음과 같습니다. $56.04.', 'type': 'function_call_output'}, output='주문에 대한 세금은 다음과 같습니다. $3.79. 세금 포함 총액은 다음과 같습니다. $56.04.', type='tool_call_output_item'), ToolCallOutputItem(agent=Agent(name='In-N-Out Cashier Assistant', instructions='OpenAI 버거의 Assistants로 아래 메뉴에 따라 질문에 답변합니다: \\n\\n\\n\\n# OpenAI Burger Menu (2025)\\n\\n**가격은 대략적인 가격이며 변경될 수 있습니다.**\\n\\n## Burgers & Combos\\n\\n| Item                                    | Price  |\\n|-----------------------------------------|--------|\\n| Additional Burger Patty (per extra)     | $1.30  |\\n| Additional Cheese Slice (per extra)     | $0.50  |\\n| **Hamburger**                           | $3.60  |\\n| **Hamburger Combo**                     | $8.15  |\\n| **Cheeseburger**                        | $4.10  |\\n| **Cheeseburger Combo**                  | $8.65  |\\n| **Double Double®**                      | $5.90  |\\n| **Double Double® Combo**                | $10.45 |\\n| **French Fries**                        | $2.30  |\\n\\n## Beverages\\n\\n| Item                                        | Price  |\\n|---------------------------------------------|--------|\\n| **Coffee**                                  | $1.35  |\\n| **Hot Cocoa**                               | $2.25  |\\n| **Milk**                                    | $0.99  |\\n| **Shakes** (Chocolate, Strawberry, Vanilla) | $3.00  |\\n| **Soda (Small)**                            | $2.10  |\\n| **Soda (Medium)**                           | $2.25  |\\n| **Soda (Large)**                            | $2.45  |\\n| **Soda (X‑Large)**                          | $2.65  |\\n\\n## Not‑So‑Secret Menu Options\\n\\n- 프로틴 스타일 버거:** 번 대신 양상추로 감싼 모든 버거.\\n- 애니멀 스타일:** 머스터드로 조리한 소고기 패티, 엑스트라 스프레드, 피클, 구운 양파와 함께 제공되는 버거 또는 감자튀김.\\n\\n부가세는 별도 입니다.\\n\\n부가세(tax) is 10.00%\\n\\n---', handoff_description=None, handoffs=[], model='gpt-4o-mini', model_settings=ModelSettings(temperature=None, top_p=None, frequency_penalty=None, presence_penalty=None, tool_choice=None, parallel_tool_calls=False, truncation=None, max_tokens=None), tools=[FunctionTool(name='calculate_tax', description='', params_json_schema={'properties': {'order_total': {'title': 'Order Total', 'type': 'number'}, 'tax_rate': {'title': 'Tax Rate', 'type': 'number'}}, 'required': ['order_total', 'tax_rate'], 'title': 'calculate_tax_args', 'type': 'object', 'additionalProperties': False}, on_invoke_tool=<function function_tool.<locals>._create_function_tool.<locals>._on_invoke_tool at 0x7f14a8f5eca0>, strict_json_schema=True)], input_guardrails=[], output_guardrails=[], output_type=None, hooks=None, tool_use_behavior='run_llm_again'), raw_item={'call_id': 'call_6ZaucGTfSyZbm7aV9gCO0cUK', 'output': '주문에 대한 세금은 다음과 같습니다. $0.83. 세금 포함 총액은 다음과 같습니다. $12.33.', 'type': 'function_call_output'}, output='주문에 대한 세금은 다음과 같습니다. $0.83. 세금 포함 총액은 다음과 같습니다. $12.33.', type='tool_call_output_item'), MessageOutputItem(agent=Agent(name='In-N-Out Cashier Assistant', instructions='OpenAI 버거의 Assistants로 아래 메뉴에 따라 질문에 답변합니다: \\n\\n\\n\\n# OpenAI Burger Menu (2025)\\n\\n**가격은 대략적인 가격이며 변경될 수 있습니다.**\\n\\n## Burgers & Combos\\n\\n| Item                                    | Price  |\\n|-----------------------------------------|--------|\\n| Additional Burger Patty (per extra)     | $1.30  |\\n| Additional Cheese Slice (per extra)     | $0.50  |\\n| **Hamburger**                           | $3.60  |\\n| **Hamburger Combo**                     | $8.15  |\\n| **Cheeseburger**                        | $4.10  |\\n| **Cheeseburger Combo**                  | $8.65  |\\n| **Double Double®**                      | $5.90  |\\n| **Double Double® Combo**                | $10.45 |\\n| **French Fries**                        | $2.30  |\\n\\n## Beverages\\n\\n| Item                                        | Price  |\\n|---------------------------------------------|--------|\\n| **Coffee**                                  | $1.35  |\\n| **Hot Cocoa**                               | $2.25  |\\n| **Milk**                                    | $0.99  |\\n| **Shakes** (Chocolate, Strawberry, Vanilla) | $3.00  |\\n| **Soda (Small)**                            | $2.10  |\\n| **Soda (Medium)**                           | $2.25  |\\n| **Soda (Large)**                            | $2.45  |\\n| **Soda (X‑Large)**                          | $2.65  |\\n\\n## Not‑So‑Secret Menu Options\\n\\n- 프로틴 스타일 버거:** 번 대신 양상추로 감싼 모든 버거.\\n- 애니멀 스타일:** 머스터드로 조리한 소고기 패티, 엑스트라 스프레드, 피클, 구운 양파와 함께 제공되는 버거 또는 감자튀김.\\n\\n부가세는 별도 입니다.\\n\\n부가세(tax) is 10.00%\\n\\n---', handoff_description=None, handoffs=[], model='gpt-4o-mini', model_settings=ModelSettings(temperature=None, top_p=None, frequency_penalty=None, presence_penalty=None, tool_choice=None, parallel_tool_calls=False, truncation=None, max_tokens=None), tools=[FunctionTool(name='calculate_tax', description='', params_json_schema={'properties': {'order_total': {'title': 'Order Total', 'type': 'number'}, 'tax_rate': {'title': 'Tax Rate', 'type': 'number'}}, 'required': ['order_total', 'tax_rate'], 'title': 'calculate_tax_args', 'type': 'object', 'additionalProperties': False}, on_invoke_tool=<function function_tool.<locals>._create_function_tool.<locals>._on_invoke_tool at 0x7f14a8f5eca0>, strict_json_schema=True)], input_guardrails=[], output_guardrails=[], output_type=None, hooks=None, tool_use_behavior='run_llm_again'), raw_item=ResponseOutputMessage(id='msg_67ded67e1ec08191a215b265e18913ac0c206e7ba0747f0c', content=[ResponseOutputText(annotations=[], text='더블더블 콤보 5인분의 총 가격은 **$56.04**입니다. (세금 포함: $3.79)', type='output_text')], role='assistant', status='completed', type='message'), type='message_output_item')]\n",
      "raw_responses: [ModelResponse(output=[ResponseFunctionToolCall(arguments='{\"order_total\":52.25,\"tax_rate\":10}', call_id='call_AlBfdNYFHFdJDeLnctYpkA0q', name='calculate_tax', type='function_call', id='fc_67ded67c1acc8191a9c9987c609e1e240c206e7ba0747f0c', status='completed'), ResponseFunctionToolCall(arguments='{\"order_total\":11.5,\"tax_rate\":10}', call_id='call_6ZaucGTfSyZbm7aV9gCO0cUK', name='calculate_tax', type='function_call', id='fc_67ded67c85c88191aa103b3aadf343c90c206e7ba0747f0c', status='completed')], usage=Usage(requests=1, input_tokens=0, output_tokens=0, total_tokens=0), referenceable_id='resp_67ded67ae6448191874f3f1de694800c0c206e7ba0747f0c'), ModelResponse(output=[ResponseOutputMessage(id='msg_67ded67e1ec08191a215b265e18913ac0c206e7ba0747f0c', content=[ResponseOutputText(annotations=[], text='더블더블 콤보 5인분의 총 가격은 **$56.04**입니다. (세금 포함: $3.79)', type='output_text')], role='assistant', status='completed', type='message')], usage=Usage(requests=1, input_tokens=832, output_tokens=35, total_tokens=867), referenceable_id='resp_67ded67d69e88191821a9f79645f252a0c206e7ba0747f0c')]\n",
      "final_output: 더블더블 콤보 5인분의 총 가격은 **$56.04**입니다. (세금 포함: $3.79)\n",
      "input_guardrail_results: []\n",
      "output_guardrail_results: []\n",
      "_last_agent: Agent(name='In-N-Out Cashier Assistant', instructions='OpenAI 버거의 Assistants로 아래 메뉴에 따라 질문에 답변합니다: \\n\\n\\n\\n# OpenAI Burger Menu (2025)\\n\\n**가격은 대략적인 가격이며 변경될 수 있습니다.**\\n\\n## Burgers & Combos\\n\\n| Item                                    | Price  |\\n|-----------------------------------------|--------|\\n| Additional Burger Patty (per extra)     | $1.30  |\\n| Additional Cheese Slice (per extra)     | $0.50  |\\n| **Hamburger**                           | $3.60  |\\n| **Hamburger Combo**                     | $8.15  |\\n| **Cheeseburger**                        | $4.10  |\\n| **Cheeseburger Combo**                  | $8.65  |\\n| **Double Double®**                      | $5.90  |\\n| **Double Double® Combo**                | $10.45 |\\n| **French Fries**                        | $2.30  |\\n\\n## Beverages\\n\\n| Item                                        | Price  |\\n|---------------------------------------------|--------|\\n| **Coffee**                                  | $1.35  |\\n| **Hot Cocoa**                               | $2.25  |\\n| **Milk**                                    | $0.99  |\\n| **Shakes** (Chocolate, Strawberry, Vanilla) | $3.00  |\\n| **Soda (Small)**                            | $2.10  |\\n| **Soda (Medium)**                           | $2.25  |\\n| **Soda (Large)**                            | $2.45  |\\n| **Soda (X‑Large)**                          | $2.65  |\\n\\n## Not‑So‑Secret Menu Options\\n\\n- 프로틴 스타일 버거:** 번 대신 양상추로 감싼 모든 버거.\\n- 애니멀 스타일:** 머스터드로 조리한 소고기 패티, 엑스트라 스프레드, 피클, 구운 양파와 함께 제공되는 버거 또는 감자튀김.\\n\\n부가세는 별도 입니다.\\n\\n부가세(tax) is 10.00%\\n\\n---', handoff_description=None, handoffs=[], model='gpt-4o-mini', model_settings=ModelSettings(temperature=None, top_p=None, frequency_penalty=None, presence_penalty=None, tool_choice=None, parallel_tool_calls=False, truncation=None, max_tokens=None), tools=[FunctionTool(name='calculate_tax', description='', params_json_schema={'properties': {'order_total': {'title': 'Order Total', 'type': 'number'}, 'tax_rate': {'title': 'Tax Rate', 'type': 'number'}}, 'required': ['order_total', 'tax_rate'], 'title': 'calculate_tax_args', 'type': 'object', 'additionalProperties': False}, on_invoke_tool=<function function_tool.<locals>._create_function_tool.<locals>._on_invoke_tool at 0x7f14a8f5eca0>, strict_json_schema=True)], input_guardrails=[], output_guardrails=[], output_type=None, hooks=None, tool_use_behavior='run_llm_again')\n"
     ]
    }
   ],
   "source": [
    "for k, v in result.__dict__.items():\n",
    "  print(f\"{k}: {v}\")\n"
   ]
  },
  {
   "cell_type": "code",
   "execution_count": 23,
   "metadata": {
    "colab": {
     "base_uri": "https://localhost:8080/"
    },
    "id": "Hh-sbnt7GRt1",
    "outputId": "63d41787-6cd9-452b-aeaf-04962f240a4e",
    "tags": []
   },
   "outputs": [
    {
     "name": "stdout",
     "output_type": "stream",
     "text": [
      "Call ID: call_AlBfdNYFHFdJDeLnctYpkA0q\n",
      "Function Name: calculate_tax\n",
      "Arguments:\n",
      "  order_total: 52.25\n",
      "  tax_rate: 10\n",
      "Output:\n",
      "  주문에 대한 세금은 다음과 같습니다. $3.79. 세금 포함 총액은 다음과 같습니다. $56.04.\n",
      "----------------------------------------\n",
      "Call ID: call_6ZaucGTfSyZbm7aV9gCO0cUK\n",
      "Function Name: calculate_tax\n",
      "Arguments:\n",
      "  order_total: 11.5\n",
      "  tax_rate: 10\n",
      "Output:\n",
      "  주문에 대한 세금은 다음과 같습니다. $0.83. 세금 포함 총액은 다음과 같습니다. $12.33.\n",
      "----------------------------------------\n"
     ]
    }
   ],
   "source": [
    "import json\n",
    "\n",
    "def extract_function_calls(run_result):\n",
    "    \"\"\"\n",
    "    함수 호출 항목(호출 세부 정보 및 출력 모두)을 추출합니다.\n",
    "    를 추출합니다.\n",
    "    \"\"\"\n",
    "    function_calls = {}\n",
    "    # Use attribute access instead of dict.get()\n",
    "    new_items = run_result.new_items if hasattr(run_result, 'new_items') else []\n",
    "\n",
    "    for item in new_items:\n",
    "        # Assuming each item has an attribute 'raw_item'\n",
    "        raw_item = item.raw_item if hasattr(item, 'raw_item') else {}\n",
    "\n",
    "        # Try to get the type from raw_item. It might be a dict or an object.\n",
    "        if isinstance(raw_item, dict):\n",
    "            item_type = raw_item.get(\"type\")\n",
    "            call_id = raw_item.get(\"call_id\")\n",
    "        else:\n",
    "            item_type = getattr(raw_item, \"type\", None)\n",
    "            call_id = getattr(raw_item, \"call_id\", None)\n",
    "\n",
    "        # Check if the item is a function call or its output\n",
    "        if item_type in [\"function_call\", \"function_call_output\"]:\n",
    "            if call_id not in function_calls:\n",
    "                function_calls[call_id] = {}\n",
    "            if item_type == \"function_call\":\n",
    "                # Get arguments as a JSON string and parse it\n",
    "                if isinstance(raw_item, dict):\n",
    "                    args = raw_item.get(\"arguments\")\n",
    "                    function_calls[call_id][\"name\"] = raw_item.get(\"name\")\n",
    "                else:\n",
    "                    args = getattr(raw_item, \"arguments\", None)\n",
    "                    function_calls[call_id][\"name\"] = getattr(raw_item, \"name\", None)\n",
    "                try:\n",
    "                    function_calls[call_id][\"arguments\"] = json.loads(args)\n",
    "                except Exception:\n",
    "                    function_calls[call_id][\"arguments\"] = args\n",
    "            elif item_type == \"function_call_output\":\n",
    "                if isinstance(raw_item, dict):\n",
    "                    function_calls[call_id][\"output\"] = raw_item.get(\"output\")\n",
    "                else:\n",
    "                    function_calls[call_id][\"output\"] = getattr(raw_item, \"output\", None)\n",
    "    return function_calls\n",
    "\n",
    "# Assuming `result` is your RunResult object:\n",
    "calls = extract_function_calls(result)\n",
    "\n",
    "# Print the extracted details\n",
    "for call_id, details in calls.items():\n",
    "    print(f\"Call ID: {call_id}\")\n",
    "    print(f\"Function Name: {details.get('name', 'N/A')}\")\n",
    "    print(\"Arguments:\")\n",
    "    for arg, value in details.get(\"arguments\", {}).items():\n",
    "        print(f\"  {arg}: {value}\")\n",
    "    print(\"Output:\")\n",
    "    print(f\"  {details.get('output', 'No output')}\")\n",
    "    print(\"-\" * 40)\n"
   ]
  },
  {
   "cell_type": "markdown",
   "metadata": {
    "id": "NMOUIKCWRyav"
   },
   "source": [
    "### Websearch Tool"
   ]
  },
  {
   "cell_type": "code",
   "execution_count": 24,
   "metadata": {
    "id": "W1rFrewNR8zE",
    "tags": []
   },
   "outputs": [],
   "source": [
    "from agents import Agent, FileSearchTool, Runner, WebSearchTool"
   ]
  },
  {
   "cell_type": "code",
   "execution_count": 27,
   "metadata": {
    "id": "NFiZmZCrR9Ea",
    "tags": []
   },
   "outputs": [],
   "source": [
    "mcdonalds_agent = Agent(\n",
    "    name=\"McDonaldsAssistant\",\n",
    "    instructions=f\"검색 도구를 사용하여 질문에 응답하는 McDonalds의 Assistants 입니다.\",\n",
    "    model=\"gpt-4o-mini\",\n",
    "    tools=[WebSearchTool()]\n",
    ")"
   ]
  },
  {
   "cell_type": "code",
   "execution_count": 29,
   "metadata": {
    "colab": {
     "base_uri": "https://localhost:8080/"
    },
    "id": "GWl-PYtYR9Ea",
    "outputId": "e4e70953-fdd8-4810-f4f2-36359b69a81b",
    "tags": []
   },
   "outputs": [
    {
     "name": "stdout",
     "output_type": "stream",
     "text": [
      "한국에서 빅맥의 가격은 약 5,200원입니다. ([roaming-tokyo-japan.tistory.com](https://roaming-tokyo-japan.tistory.com/entry/2023%EB%85%84-%EA%B8%B0%EC%A4%80-%EB%B9%85%EB%A7%A5-%EC%A7%80%EC%88%98%EB%9E%80-%ED%95%9C%EA%B5%AD%EA%B3%BC-%EC%9D%BC%EB%B3%B8%EC%9D%98-%EB%B9%85%EB%A7%A5-%EC%A7%80%EC%88%98-%EB%B9%84%EA%B5%90?utm_source=openai)) 이는 2023년 기준으로, 당시 환율을 적용하면 약 3.99달러에 해당합니다. 이러한 가격은 아시아 국가 중에서는 비교적 높은 편에 속하며, 세계적으로는 중간 수준에 해당합니다. ([theguru.co.kr](https://www.theguru.co.kr/news/article_print.html?no=52857&utm_source=openai)) \n"
     ]
    }
   ],
   "source": [
    "result = await Runner.run(mcdonalds_agent, \"한국에서 빅맥은 얼마야?.\")\n",
    "\n",
    "print(result.final_output)"
   ]
  },
  {
   "cell_type": "code",
   "execution_count": 30,
   "metadata": {
    "colab": {
     "base_uri": "https://localhost:8080/"
    },
    "id": "rqgM6PXmR14a",
    "outputId": "6476cfa0-fbb9-4c27-813c-1d602da0dfe7",
    "tags": []
   },
   "outputs": [
    {
     "data": {
      "text/plain": [
       "[AnnotationURLCitation(end_index=319, start_index=26, title='[2023년 기준] 빅맥 지수란? 한국과 일본의 빅맥 지수 비교!', type='url_citation', url='https://roaming-tokyo-japan.tistory.com/entry/2023%EB%85%84-%EA%B8%B0%EC%A4%80-%EB%B9%85%EB%A7%A5-%EC%A7%80%EC%88%98%EB%9E%80-%ED%95%9C%EA%B5%AD%EA%B3%BC-%EC%9D%BC%EB%B3%B8%EC%9D%98-%EB%B9%85%EB%A7%A5-%EC%A7%80%EC%88%98-%EB%B9%84%EA%B5%90?utm_source=openai'),\n",
       " AnnotationURLCitation(end_index=515, start_index=420, title='더구루', type='url_citation', url='https://www.theguru.co.kr/news/article_print.html?no=52857&utm_source=openai')]"
      ]
     },
     "execution_count": 30,
     "metadata": {},
     "output_type": "execute_result"
    }
   ],
   "source": [
    "result.new_items[1].raw_item.content[0].annotations"
   ]
  },
  {
   "cell_type": "markdown",
   "metadata": {
    "id": "6TGCmMZyAorn"
   },
   "source": [
    "### Agents as tools"
   ]
  },
  {
   "cell_type": "code",
   "execution_count": 35,
   "metadata": {
    "id": "pAUAymLwAqY-",
    "tags": []
   },
   "outputs": [],
   "source": [
    "from agents import Agent, Runner\n",
    "import asyncio\n",
    "\n",
    "\n",
    "\n",
    "orchestrator_agent = Agent(\n",
    "    name=\"orchestrator_agent\",\n",
    "    instructions=(\n",
    "        \"귀하는 어떤 도구 또는 어시스턴트를 호출할지 결정하는 DoorDash 에이전트입니다.\"\n",
    "        \"가격이나 메뉴 항목을 묻는 경우 관련 도구에 전화합니다.\"\n",
    "        \"정보를 요청하는 경우. 둘 이상의 소스에서 여러 도구를 실행합니다.\"\n",
    "    ),\n",
    "    tools=[\n",
    "        agent.as_tool(\n",
    "            tool_name=\"AI_Master_burger_assistant\",\n",
    "            tool_description=\"AI Master 버거 세금 포함 가격 확인하기\",\n",
    "        ),\n",
    "        mcdonalds_agent.as_tool(\n",
    "            tool_name=\"mcdonalds_assistant\",\n",
    "            tool_description=\"한국의 맥도날드 가격 확인하기\",\n",
    "        ),\n",
    "    ],\n",
    ")\n"
   ]
  },
  {
   "cell_type": "code",
   "execution_count": 36,
   "metadata": {
    "colab": {
     "base_uri": "https://localhost:8080/"
    },
    "id": "FDi7Ol9UUp6w",
    "outputId": "4df754ed-c421-40bb-910b-bf825c66a4e4",
    "tags": []
   },
   "outputs": [
    {
     "name": "stdout",
     "output_type": "stream",
     "text": [
      "OpenAI의 더블 더블®은 $5.90입니다. 다른 도움이 필요하신가요?\n"
     ]
    }
   ],
   "source": [
    "result = await Runner.run(orchestrator_agent, input=\"AI Master의 더블 더블은 얼마인가요?\")\n",
    "print(result.final_output)"
   ]
  },
  {
   "cell_type": "code",
   "execution_count": 37,
   "metadata": {
    "colab": {
     "base_uri": "https://localhost:8080/"
    },
    "id": "nw9beoVMUxm5",
    "outputId": "afd00dc9-e923-4c20-d312-0a7ba7c686fa",
    "tags": []
   },
   "outputs": [
    {
     "name": "stdout",
     "output_type": "stream",
     "text": [
      "맥도날드의 아침 메뉴는 주로 오전 4시부터 제공됩니다. 일반적인 아침 메뉴로는 다음과 같습니다:\n",
      "\n",
      "- 소시지 맥머핀\n",
      "- 에그 맥머핀\n",
      "- 소시지 에그 맥머핀\n",
      "- 베이컨 에그 맥머핀\n",
      "- 베이컨 토마토 맥머핀\n",
      "- 치킨 치즈 맥머핀\n",
      "- 해시 브라운\n",
      "- 핫케이크\n",
      "\n",
      "참고로 아침 메뉴는 보통 오전 10시 30분까지 제공됩니다.\n"
     ]
    }
   ],
   "source": [
    "result = await Runner.run(orchestrator_agent, input=\"한국의 맥도날드의 아침 메뉴는 무엇인가요?\")\n",
    "print(result.final_output)"
   ]
  },
  {
   "cell_type": "code",
   "execution_count": 38,
   "metadata": {
    "colab": {
     "base_uri": "https://localhost:8080/"
    },
    "id": "uD11__1OVRu4",
    "outputId": "c92d809f-435f-4360-f399-fc80f74da5fb",
    "tags": []
   },
   "outputs": [
    {
     "name": "stdout",
     "output_type": "stream",
     "text": [
      "현재 가격 정보를 바탕으로 비교해 보면:\n",
      "\n",
      "- **빅맥 (단품):** 5,500원\n",
      "- **더블더블 애니멀스타일:** $5.90 (약 7,900원, 환율에 따라 다름)\n",
      "\n",
      "따라서 빅맥이 더 저렴합니다.\n"
     ]
    }
   ],
   "source": [
    "result = await Runner.run(orchestrator_agent, input=\"빅맥이나 더블더블 애니멀스타일 중 어느 것이 더 저렴하나요?\")\n",
    "print(result.final_output)"
   ]
  },
  {
   "cell_type": "code",
   "execution_count": 39,
   "metadata": {
    "id": "YMn9xIZiVZu3",
    "tags": []
   },
   "outputs": [
    {
     "data": {
      "text/plain": [
       "RunResult(input='빅맥이나 더블더블 애니멀스타일 중 어느 것이 더 저렴하나요?', new_items=[ToolCallItem(agent=Agent(name='orchestrator_agent', instructions='귀하는 어떤 도구 또는 어시스턴트를 호출할지 결정하는 DoorDash 에이전트입니다.가격이나 메뉴 항목을 묻는 경우 관련 도구에 전화합니다.정보를 요청하는 경우. 둘 이상의 소스에서 여러 도구를 실행합니다.', handoff_description=None, handoffs=[], model=None, model_settings=ModelSettings(temperature=None, top_p=None, frequency_penalty=None, presence_penalty=None, tool_choice=None, parallel_tool_calls=False, truncation=None, max_tokens=None), tools=[FunctionTool(name='OpenAI_burger_assistant', description='OpenAI 버거 세금 포함 가격 확인하기', params_json_schema={'properties': {'input': {'title': 'Input', 'type': 'string'}}, 'required': ['input'], 'title': 'OpenAI_burger_assistant_args', 'type': 'object', 'additionalProperties': False}, on_invoke_tool=<function function_tool.<locals>._create_function_tool.<locals>._on_invoke_tool at 0x7f14a8e4c540>, strict_json_schema=True), FunctionTool(name='mcdonalds_assistant', description='한국의 맥도날드 가격 확인하기', params_json_schema={'properties': {'input': {'title': 'Input', 'type': 'string'}}, 'required': ['input'], 'title': 'mcdonalds_assistant_args', 'type': 'object', 'additionalProperties': False}, on_invoke_tool=<function function_tool.<locals>._create_function_tool.<locals>._on_invoke_tool at 0x7f14a8e4ce00>, strict_json_schema=True)], input_guardrails=[], output_guardrails=[], output_type=None, hooks=None, tool_use_behavior='run_llm_again'), raw_item=ResponseFunctionToolCall(arguments='{\"input\":\"빅맥 가격\"}', call_id='call_qV9hBEffbjlWNQYQAtgGUUI9', name='mcdonalds_assistant', type='function_call', id='fc_67ded7de7ec08191b08b706b40ab3c390733c54d44ed7abd', status='completed'), type='tool_call_item'), ToolCallItem(agent=Agent(name='orchestrator_agent', instructions='귀하는 어떤 도구 또는 어시스턴트를 호출할지 결정하는 DoorDash 에이전트입니다.가격이나 메뉴 항목을 묻는 경우 관련 도구에 전화합니다.정보를 요청하는 경우. 둘 이상의 소스에서 여러 도구를 실행합니다.', handoff_description=None, handoffs=[], model=None, model_settings=ModelSettings(temperature=None, top_p=None, frequency_penalty=None, presence_penalty=None, tool_choice=None, parallel_tool_calls=False, truncation=None, max_tokens=None), tools=[FunctionTool(name='OpenAI_burger_assistant', description='OpenAI 버거 세금 포함 가격 확인하기', params_json_schema={'properties': {'input': {'title': 'Input', 'type': 'string'}}, 'required': ['input'], 'title': 'OpenAI_burger_assistant_args', 'type': 'object', 'additionalProperties': False}, on_invoke_tool=<function function_tool.<locals>._create_function_tool.<locals>._on_invoke_tool at 0x7f14a8e4c540>, strict_json_schema=True), FunctionTool(name='mcdonalds_assistant', description='한국의 맥도날드 가격 확인하기', params_json_schema={'properties': {'input': {'title': 'Input', 'type': 'string'}}, 'required': ['input'], 'title': 'mcdonalds_assistant_args', 'type': 'object', 'additionalProperties': False}, on_invoke_tool=<function function_tool.<locals>._create_function_tool.<locals>._on_invoke_tool at 0x7f14a8e4ce00>, strict_json_schema=True)], input_guardrails=[], output_guardrails=[], output_type=None, hooks=None, tool_use_behavior='run_llm_again'), raw_item=ResponseFunctionToolCall(arguments='{\"input\":\"더블더블 애니멀스타일 가격\"}', call_id='call_008RzF3ip0QObvHk7bwSu75U', name='OpenAI_burger_assistant', type='function_call', id='fc_67ded7dff9bc81919462005315b248ee0733c54d44ed7abd', status='completed'), type='tool_call_item'), ToolCallOutputItem(agent=Agent(name='orchestrator_agent', instructions='귀하는 어떤 도구 또는 어시스턴트를 호출할지 결정하는 DoorDash 에이전트입니다.가격이나 메뉴 항목을 묻는 경우 관련 도구에 전화합니다.정보를 요청하는 경우. 둘 이상의 소스에서 여러 도구를 실행합니다.', handoff_description=None, handoffs=[], model=None, model_settings=ModelSettings(temperature=None, top_p=None, frequency_penalty=None, presence_penalty=None, tool_choice=None, parallel_tool_calls=False, truncation=None, max_tokens=None), tools=[FunctionTool(name='OpenAI_burger_assistant', description='OpenAI 버거 세금 포함 가격 확인하기', params_json_schema={'properties': {'input': {'title': 'Input', 'type': 'string'}}, 'required': ['input'], 'title': 'OpenAI_burger_assistant_args', 'type': 'object', 'additionalProperties': False}, on_invoke_tool=<function function_tool.<locals>._create_function_tool.<locals>._on_invoke_tool at 0x7f14a8e4c540>, strict_json_schema=True), FunctionTool(name='mcdonalds_assistant', description='한국의 맥도날드 가격 확인하기', params_json_schema={'properties': {'input': {'title': 'Input', 'type': 'string'}}, 'required': ['input'], 'title': 'mcdonalds_assistant_args', 'type': 'object', 'additionalProperties': False}, on_invoke_tool=<function function_tool.<locals>._create_function_tool.<locals>._on_invoke_tool at 0x7f14a8e4ce00>, strict_json_schema=True)], input_guardrails=[], output_guardrails=[], output_type=None, hooks=None, tool_use_behavior='run_llm_again'), raw_item={'call_id': 'call_qV9hBEffbjlWNQYQAtgGUUI9', 'output': '2023년 10월 2일부터 맥도날드는 빅맥 단품 가격을 5,200원에서 5,500원으로 인상하였습니다. ([hankyung.com](https://www.hankyung.com/article/2023102690601?utm_source=openai))\\n\\n이후 2023년 2월 16일부터는 빅맥 단품 가격을 4,900원에서 5,200원으로 인상하였습니다. ([yna.co.kr](https://www.yna.co.kr/view/AKR20230210032551003?utm_source=openai))\\n\\n따라서 현재 빅맥 단품 가격은 5,500원입니다. ', 'type': 'function_call_output'}, output='2023년 10월 2일부터 맥도날드는 빅맥 단품 가격을 5,200원에서 5,500원으로 인상하였습니다. ([hankyung.com](https://www.hankyung.com/article/2023102690601?utm_source=openai))\\n\\n이후 2023년 2월 16일부터는 빅맥 단품 가격을 4,900원에서 5,200원으로 인상하였습니다. ([yna.co.kr](https://www.yna.co.kr/view/AKR20230210032551003?utm_source=openai))\\n\\n따라서 현재 빅맥 단품 가격은 5,500원입니다. ', type='tool_call_output_item'), ToolCallOutputItem(agent=Agent(name='orchestrator_agent', instructions='귀하는 어떤 도구 또는 어시스턴트를 호출할지 결정하는 DoorDash 에이전트입니다.가격이나 메뉴 항목을 묻는 경우 관련 도구에 전화합니다.정보를 요청하는 경우. 둘 이상의 소스에서 여러 도구를 실행합니다.', handoff_description=None, handoffs=[], model=None, model_settings=ModelSettings(temperature=None, top_p=None, frequency_penalty=None, presence_penalty=None, tool_choice=None, parallel_tool_calls=False, truncation=None, max_tokens=None), tools=[FunctionTool(name='OpenAI_burger_assistant', description='OpenAI 버거 세금 포함 가격 확인하기', params_json_schema={'properties': {'input': {'title': 'Input', 'type': 'string'}}, 'required': ['input'], 'title': 'OpenAI_burger_assistant_args', 'type': 'object', 'additionalProperties': False}, on_invoke_tool=<function function_tool.<locals>._create_function_tool.<locals>._on_invoke_tool at 0x7f14a8e4c540>, strict_json_schema=True), FunctionTool(name='mcdonalds_assistant', description='한국의 맥도날드 가격 확인하기', params_json_schema={'properties': {'input': {'title': 'Input', 'type': 'string'}}, 'required': ['input'], 'title': 'mcdonalds_assistant_args', 'type': 'object', 'additionalProperties': False}, on_invoke_tool=<function function_tool.<locals>._create_function_tool.<locals>._on_invoke_tool at 0x7f14a8e4ce00>, strict_json_schema=True)], input_guardrails=[], output_guardrails=[], output_type=None, hooks=None, tool_use_behavior='run_llm_again'), raw_item={'call_id': 'call_008RzF3ip0QObvHk7bwSu75U', 'output': '더블 더블® 애니멀 스타일의 가격은 기본 더블 더블® 가격인 $5.90에 동일하며, 추가 비용이 발생하지 않습니다. 따라서 **더블 더블 애니멀 스타일**의 가격은 **$5.90**입니다.', 'type': 'function_call_output'}, output='더블 더블® 애니멀 스타일의 가격은 기본 더블 더블® 가격인 $5.90에 동일하며, 추가 비용이 발생하지 않습니다. 따라서 **더블 더블 애니멀 스타일**의 가격은 **$5.90**입니다.', type='tool_call_output_item'), MessageOutputItem(agent=Agent(name='orchestrator_agent', instructions='귀하는 어떤 도구 또는 어시스턴트를 호출할지 결정하는 DoorDash 에이전트입니다.가격이나 메뉴 항목을 묻는 경우 관련 도구에 전화합니다.정보를 요청하는 경우. 둘 이상의 소스에서 여러 도구를 실행합니다.', handoff_description=None, handoffs=[], model=None, model_settings=ModelSettings(temperature=None, top_p=None, frequency_penalty=None, presence_penalty=None, tool_choice=None, parallel_tool_calls=False, truncation=None, max_tokens=None), tools=[FunctionTool(name='OpenAI_burger_assistant', description='OpenAI 버거 세금 포함 가격 확인하기', params_json_schema={'properties': {'input': {'title': 'Input', 'type': 'string'}}, 'required': ['input'], 'title': 'OpenAI_burger_assistant_args', 'type': 'object', 'additionalProperties': False}, on_invoke_tool=<function function_tool.<locals>._create_function_tool.<locals>._on_invoke_tool at 0x7f14a8e4c540>, strict_json_schema=True), FunctionTool(name='mcdonalds_assistant', description='한국의 맥도날드 가격 확인하기', params_json_schema={'properties': {'input': {'title': 'Input', 'type': 'string'}}, 'required': ['input'], 'title': 'mcdonalds_assistant_args', 'type': 'object', 'additionalProperties': False}, on_invoke_tool=<function function_tool.<locals>._create_function_tool.<locals>._on_invoke_tool at 0x7f14a8e4ce00>, strict_json_schema=True)], input_guardrails=[], output_guardrails=[], output_type=None, hooks=None, tool_use_behavior='run_llm_again'), raw_item=ResponseOutputMessage(id='msg_67ded7e44d408191a764df1405a4d8580733c54d44ed7abd', content=[ResponseOutputText(annotations=[], text='현재 가격 정보를 바탕으로 비교해 보면:\\n\\n- **빅맥 (단품):** 5,500원\\n- **더블더블 애니멀스타일:** $5.90 (약 7,900원, 환율에 따라 다름)\\n\\n따라서 빅맥이 더 저렴합니다.', type='output_text')], role='assistant', status='completed', type='message'), type='message_output_item')], raw_responses=[ModelResponse(output=[ResponseFunctionToolCall(arguments='{\"input\":\"빅맥 가격\"}', call_id='call_qV9hBEffbjlWNQYQAtgGUUI9', name='mcdonalds_assistant', type='function_call', id='fc_67ded7de7ec08191b08b706b40ab3c390733c54d44ed7abd', status='completed'), ResponseFunctionToolCall(arguments='{\"input\":\"더블더블 애니멀스타일 가격\"}', call_id='call_008RzF3ip0QObvHk7bwSu75U', name='OpenAI_burger_assistant', type='function_call', id='fc_67ded7dff9bc81919462005315b248ee0733c54d44ed7abd', status='completed')], usage=Usage(requests=1, input_tokens=0, output_tokens=0, total_tokens=0), referenceable_id='resp_67ded7dc711c8191941509c439a7ac710733c54d44ed7abd'), ModelResponse(output=[ResponseOutputMessage(id='msg_67ded7e44d408191a764df1405a4d8580733c54d44ed7abd', content=[ResponseOutputText(annotations=[], text='현재 가격 정보를 바탕으로 비교해 보면:\\n\\n- **빅맥 (단품):** 5,500원\\n- **더블더블 애니멀스타일:** $5.90 (약 7,900원, 환율에 따라 다름)\\n\\n따라서 빅맥이 더 저렴합니다.', type='output_text')], role='assistant', status='completed', type='message')], usage=Usage(requests=1, input_tokens=677, output_tokens=71, total_tokens=748), referenceable_id='resp_67ded7e3dd5c8191a4185443042ac7df0733c54d44ed7abd')], final_output='현재 가격 정보를 바탕으로 비교해 보면:\\n\\n- **빅맥 (단품):** 5,500원\\n- **더블더블 애니멀스타일:** $5.90 (약 7,900원, 환율에 따라 다름)\\n\\n따라서 빅맥이 더 저렴합니다.', input_guardrail_results=[], output_guardrail_results=[], _last_agent=Agent(name='orchestrator_agent', instructions='귀하는 어떤 도구 또는 어시스턴트를 호출할지 결정하는 DoorDash 에이전트입니다.가격이나 메뉴 항목을 묻는 경우 관련 도구에 전화합니다.정보를 요청하는 경우. 둘 이상의 소스에서 여러 도구를 실행합니다.', handoff_description=None, handoffs=[], model=None, model_settings=ModelSettings(temperature=None, top_p=None, frequency_penalty=None, presence_penalty=None, tool_choice=None, parallel_tool_calls=False, truncation=None, max_tokens=None), tools=[FunctionTool(name='OpenAI_burger_assistant', description='OpenAI 버거 세금 포함 가격 확인하기', params_json_schema={'properties': {'input': {'title': 'Input', 'type': 'string'}}, 'required': ['input'], 'title': 'OpenAI_burger_assistant_args', 'type': 'object', 'additionalProperties': False}, on_invoke_tool=<function function_tool.<locals>._create_function_tool.<locals>._on_invoke_tool at 0x7f14a8e4c540>, strict_json_schema=True), FunctionTool(name='mcdonalds_assistant', description='한국의 맥도날드 가격 확인하기', params_json_schema={'properties': {'input': {'title': 'Input', 'type': 'string'}}, 'required': ['input'], 'title': 'mcdonalds_assistant_args', 'type': 'object', 'additionalProperties': False}, on_invoke_tool=<function function_tool.<locals>._create_function_tool.<locals>._on_invoke_tool at 0x7f14a8e4ce00>, strict_json_schema=True)], input_guardrails=[], output_guardrails=[], output_type=None, hooks=None, tool_use_behavior='run_llm_again'))"
      ]
     },
     "execution_count": 39,
     "metadata": {},
     "output_type": "execute_result"
    }
   ],
   "source": [
    "result"
   ]
  },
  {
   "cell_type": "markdown",
   "metadata": {
    "id": "wqkIb47wYlLD"
   },
   "source": [
    "## Giving it a Chat Memory"
   ]
  },
  {
   "cell_type": "code",
   "execution_count": 41,
   "metadata": {
    "id": "mqbqRhvrYo-p",
    "tags": []
   },
   "outputs": [],
   "source": [
    "agent = Agent(\n",
    "    name=\"AI Master_Cashier_Assistant\",\n",
    "    instructions=f\"AI Master 버거의 Assistants로 아래 메뉴에 따라 질문에 답변합니다: \\n\\n{MENU_PRICES}\",\n",
    "    model=\"gpt-4o-mini\",\n",
    "    tools=[calculate_tax]\n",
    ")\n"
   ]
  },
  {
   "cell_type": "code",
   "execution_count": 42,
   "metadata": {
    "colab": {
     "base_uri": "https://localhost:8080/"
    },
    "id": "SPYEFSYRYo-q",
    "outputId": "77132eb8-43d6-4342-c5c8-61e081e1a04c",
    "tags": []
   },
   "outputs": [
    {
     "name": "stdout",
     "output_type": "stream",
     "text": [
      "[debug] calculating tax function called order:10.45 tax:10.0\n",
      "[debug] calculating tax function called order:2.3 tax:10.0\n",
      "주문하신 **더블 더블® 콤보**와 **감자튀김**의 세금은 다음과 같습니다:\n",
      "\n",
      "- **더블 더블® 콤보**: $10.45\n",
      "- **세금**: $0.76\n",
      "- **총액**: $11.21\n",
      "\n",
      "- **감자튀튀김**: $2.30\n",
      "- **세금**: $0.17\n",
      "- **총액**: $2.47\n",
      "\n",
      "### 최종 결제 금액:\n",
      "- 더블 더블® 콤보: $11.21\n",
      "- 감자튀김: $2.47\n",
      "\n",
      "**총합**: $13.68\n",
      "\n",
      "주문이 완료되었습니다! 추가로 필요하신 것이 있으면 말씀해 주세요.\n"
     ]
    }
   ],
   "source": [
    "result = await Runner.run(agent, \"먼저 감자튀김을 곁들인 더블더블을 주문할게요.\")\n",
    "print(result.final_output)"
   ]
  },
  {
   "cell_type": "code",
   "execution_count": 43,
   "metadata": {
    "colab": {
     "base_uri": "https://localhost:8080/"
    },
    "id": "diVWWgNQab9q",
    "outputId": "e929c191-cd50-4892-f1e2-63a9794f3b60",
    "tags": []
   },
   "outputs": [
    {
     "data": {
      "text/plain": [
       "[{'content': '먼저 감자튀김을 곁들인 더블더블을 주문할게요.', 'role': 'user'},\n",
       " {'arguments': '{\"order_total\":10.45,\"tax_rate\":10}',\n",
       "  'call_id': 'call_lLQmrmFATLnmpwVPMPHTWnIT',\n",
       "  'name': 'calculate_tax',\n",
       "  'type': 'function_call',\n",
       "  'id': 'fc_67ded83edf508191b70b6194f40c37160bac5c444de79ba5',\n",
       "  'status': 'completed'},\n",
       " {'arguments': '{\"order_total\":2.3,\"tax_rate\":10}',\n",
       "  'call_id': 'call_gzOl6oqpHL5k9nuGcN53Z08S',\n",
       "  'name': 'calculate_tax',\n",
       "  'type': 'function_call',\n",
       "  'id': 'fc_67ded83f32ac8191b6ddd2f8a8e158f50bac5c444de79ba5',\n",
       "  'status': 'completed'},\n",
       " {'call_id': 'call_lLQmrmFATLnmpwVPMPHTWnIT',\n",
       "  'output': '주문에 대한 세금은 다음과 같습니다. $0.76. 세금 포함 총액은 다음과 같습니다. $11.21.',\n",
       "  'type': 'function_call_output'},\n",
       " {'call_id': 'call_gzOl6oqpHL5k9nuGcN53Z08S',\n",
       "  'output': '주문에 대한 세금은 다음과 같습니다. $0.17. 세금 포함 총액은 다음과 같습니다. $2.47.',\n",
       "  'type': 'function_call_output'},\n",
       " {'id': 'msg_67ded8405cd481919ce632697d301b170bac5c444de79ba5',\n",
       "  'content': [{'annotations': [],\n",
       "    'text': '주문하신 **더블 더블® 콤보**와 **감자튀김**의 세금은 다음과 같습니다:\\n\\n- **더블 더블® 콤보**: $10.45\\n- **세금**: $0.76\\n- **총액**: $11.21\\n\\n- **감자튀튀김**: $2.30\\n- **세금**: $0.17\\n- **총액**: $2.47\\n\\n### 최종 결제 금액:\\n- 더블 더블® 콤보: $11.21\\n- 감자튀김: $2.47\\n\\n**총합**: $13.68\\n\\n주문이 완료되었습니다! 추가로 필요하신 것이 있으면 말씀해 주세요.',\n",
       "    'type': 'output_text'}],\n",
       "  'role': 'assistant',\n",
       "  'status': 'completed',\n",
       "  'type': 'message'}]"
      ]
     },
     "execution_count": 43,
     "metadata": {},
     "output_type": "execute_result"
    }
   ],
   "source": [
    "result.to_input_list()"
   ]
  },
  {
   "cell_type": "code",
   "execution_count": 44,
   "metadata": {
    "id": "JEp2v6kyajER",
    "tags": []
   },
   "outputs": [],
   "source": [
    "def assemble_conversation(result, new_input):\n",
    "    if result !=None:\n",
    "        new_input = result.to_input_list() + [{'content': new_input,\n",
    "                                                'role': 'user'}]\n",
    "    else:\n",
    "        new_input = new_input\n",
    "    return new_input"
   ]
  },
  {
   "cell_type": "code",
   "execution_count": 45,
   "metadata": {
    "id": "X2GOSshRbXiq",
    "tags": []
   },
   "outputs": [],
   "source": [
    "new_prompt = \"예, 콤보로 만들어주세요\""
   ]
  },
  {
   "cell_type": "code",
   "execution_count": 46,
   "metadata": {
    "colab": {
     "base_uri": "https://localhost:8080/"
    },
    "id": "7PxSXWfvbe3a",
    "outputId": "b15d8a62-5bcd-4657-f2ee-821ea26ce40d",
    "tags": []
   },
   "outputs": [
    {
     "name": "stdout",
     "output_type": "stream",
     "text": [
      "주문을 **더블 더블® 콤보**로 변경하셨습니다. \n",
      "\n",
      "최종 주문 내용은 다음과 같습니다:\n",
      "\n",
      "- **더블 더블® 콤보**: $10.45\n",
      "- **감자튀김**: $2.30\n",
      "\n",
      "### 세금 포함 총액:\n",
      "- **더블 더블® 콤보**: $10.45 + 세금 $0.76 = **$11.21**\n",
      "- **감자튀김**: $2.30 + 세금 $0.17 = **$2.47**\n",
      "\n",
      "### 최종 결제 금액:\n",
      "- **$11.21 + $2.47 = $13.68**\n",
      "\n",
      "주문이 완료되었습니다! 다른 도움이 필요하시면 언제든지 말씀해 주세요.\n"
     ]
    }
   ],
   "source": [
    "new_input = assemble_conversation(result, new_prompt)\n",
    "\n",
    "result = await Runner.run(agent, new_input)\n",
    "print(result.final_output)"
   ]
  },
  {
   "cell_type": "code",
   "execution_count": 47,
   "metadata": {
    "id": "F3IgglCcb35-",
    "tags": []
   },
   "outputs": [],
   "source": [
    "new_prompt = \"네, 커피도 마실 수 있나요?\" #coffee $1.35"
   ]
  },
  {
   "cell_type": "code",
   "execution_count": 48,
   "metadata": {
    "colab": {
     "base_uri": "https://localhost:8080/"
    },
    "id": "hXNTDZptb35-",
    "outputId": "f794a298-41a4-4c80-c58d-590556d5b104",
    "tags": []
   },
   "outputs": [
    {
     "name": "stdout",
     "output_type": "stream",
     "text": [
      "[debug] calculating tax function called order:1.35 tax:10.0\n",
      "[debug] calculating tax function called order:13.68 tax:10.0\n",
      "주문이 업데이트되었습니다. 새로운 주문 내역은 다음과 같습니다:\n",
      "\n",
      "- **더블 더블® 콤보**: $10.45\n",
      "- **감자튀김**: $2.30\n",
      "- **커피**: $1.35\n",
      "\n",
      "### 세금:\n",
      "- **더블 더블® 콤보 및 감자튀김**: $13.68 + 세금 $0.99 = **$14.67**\n",
      "- **커피**: $1.35 + 세금 $0.10 = **$1.45**\n",
      "\n",
      "### 최종 결제 금액:\n",
      "- **$14.67 + $1.45 = $16.12**\n",
      "\n",
      "주문이 완료되었습니다! 다른 것이 필요하시면 언제든지 말씀해 주세요.\n"
     ]
    }
   ],
   "source": [
    "new_input = assemble_conversation(result, new_prompt)\n",
    "\n",
    "result = await Runner.run(agent, new_input)\n",
    "print(result.final_output)"
   ]
  }
 ],
 "metadata": {
  "colab": {
   "provenance": []
  },
  "kernelspec": {
   "display_name": "lecture",
   "language": "python",
   "name": "lecture"
  },
  "language_info": {
   "codemirror_mode": {
    "name": "ipython",
    "version": 3
   },
   "file_extension": ".py",
   "mimetype": "text/x-python",
   "name": "python",
   "nbconvert_exporter": "python",
   "pygments_lexer": "ipython3",
   "version": "3.11.7"
  }
 },
 "nbformat": 4,
 "nbformat_minor": 4
}
