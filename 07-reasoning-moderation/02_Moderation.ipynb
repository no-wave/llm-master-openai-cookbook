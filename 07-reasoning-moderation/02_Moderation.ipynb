{
 "cells": [
  {
   "cell_type": "markdown",
   "id": "72f8af3b-bb54-4303-a04a-2fc19af69dd3",
   "metadata": {},
   "source": [
    "# OpenAI: Moderation"
   ]
  },
  {
   "cell_type": "code",
   "execution_count": 1,
   "id": "dae9a4b9-47c1-4836-8ab5-0dae96cb70c8",
   "metadata": {
    "tags": []
   },
   "outputs": [],
   "source": [
    "from openai import OpenAI\n",
    "from dotenv import load_dotenv\n",
    "import os\n",
    "\n",
    "load_dotenv()\n",
    "client = OpenAI(api_key=os.getenv(\"OPENAI_API_KEY\"))"
   ]
  },
  {
   "cell_type": "markdown",
   "id": "835904fe-cf44-47ad-8b38-abc6ecc19f3b",
   "metadata": {},
   "source": [
    "## Moderation Text"
   ]
  },
  {
   "cell_type": "code",
   "execution_count": 2,
   "id": "ff6207fa-d00e-420d-8225-02e776d2897e",
   "metadata": {
    "tags": []
   },
   "outputs": [
    {
     "name": "stdout",
     "output_type": "stream",
     "text": [
      "ModerationCreateResponse(id='modr-1d7bb243b7a39bd32bbe9b414fc85b44', model='omni-moderation-latest', results=[Moderation(categories=Categories(harassment=False, harassment_threatening=False, hate=False, hate_threatening=False, illicit=False, illicit_violent=False, self_harm=False, self_harm_instructions=False, self_harm_intent=False, sexual=False, sexual_minors=False, violence=False, violence_graphic=False, harassment/threatening=False, hate/threatening=False, illicit/violent=False, self-harm/intent=False, self-harm/instructions=False, self-harm=False, sexual/minors=False, violence/graphic=False), category_applied_input_types=CategoryAppliedInputTypes(harassment=['text'], harassment_threatening=['text'], hate=['text'], hate_threatening=['text'], illicit=['text'], illicit_violent=['text'], self_harm=['text'], self_harm_instructions=['text'], self_harm_intent=['text'], sexual=['text'], sexual_minors=['text'], violence=['text'], violence_graphic=['text'], harassment/threatening=['text'], hate/threatening=['text'], illicit/violent=['text'], self-harm/intent=['text'], self-harm/instructions=['text'], self-harm=['text'], sexual/minors=['text'], violence/graphic=['text']), category_scores=CategoryScores(harassment=4.802972318863164e-05, harassment_threatening=6.605214485464791e-06, hate=1.4202364022997911e-05, hate_threatening=8.664653147910923e-07, illicit=2.234163601827719e-05, illicit_violent=1.9110431587777674e-05, self_harm=2.0462932829931794e-06, self_harm_instructions=1.0129990980873922e-06, self_harm_intent=1.1125607488784412e-06, sexual=3.9821309061635425e-05, sexual_minors=1.0391067562761452e-05, violence=1.6346470245419304e-05, violence_graphic=5.649793328376294e-06, harassment/threatening=6.605214485464791e-06, hate/threatening=8.664653147910923e-07, illicit/violent=1.9110431587777674e-05, self-harm/intent=1.1125607488784412e-06, self-harm/instructions=1.0129990980873922e-06, self-harm=2.0462932829931794e-06, sexual/minors=1.0391067562761452e-05, violence/graphic=5.649793328376294e-06), flagged=False)])\n"
     ]
    }
   ],
   "source": [
    "response = client.moderations.create(\n",
    "    model=\"omni-moderation-latest\",\n",
    "    input=\"...text to classify goes here...\",\n",
    ")\n",
    "\n",
    "print(response)"
   ]
  },
  {
   "cell_type": "markdown",
   "id": "a6ea0476-a3f3-4150-bf34-da3593f2b6f4",
   "metadata": {},
   "source": [
    "## Moderation Image & Text"
   ]
  },
  {
   "cell_type": "code",
   "execution_count": 10,
   "id": "49af57fb-9278-49fe-82ea-c3824ce0079e",
   "metadata": {
    "tags": []
   },
   "outputs": [
    {
     "name": "stdout",
     "output_type": "stream",
     "text": [
      "ModerationCreateResponse(id='modr-9d7eebb476462b8f0440b2078f9be0cc', model='omni-moderation-latest', results=[Moderation(categories=Categories(harassment=False, harassment_threatening=False, hate=False, hate_threatening=False, illicit=False, illicit_violent=False, self_harm=False, self_harm_instructions=False, self_harm_intent=False, sexual=False, sexual_minors=False, violence=False, violence_graphic=False, harassment/threatening=False, hate/threatening=False, illicit/violent=False, self-harm/intent=False, self-harm/instructions=False, self-harm=False, sexual/minors=False, violence/graphic=False), category_applied_input_types=CategoryAppliedInputTypes(harassment=['text'], harassment_threatening=['text'], hate=['text'], hate_threatening=['text'], illicit=['text'], illicit_violent=['text'], self_harm=['text', 'image'], self_harm_instructions=['text', 'image'], self_harm_intent=['text', 'image'], sexual=['text', 'image'], sexual_minors=['text'], violence=['text', 'image'], violence_graphic=['text', 'image'], harassment/threatening=['text'], hate/threatening=['text'], illicit/violent=['text'], self-harm/intent=['text', 'image'], self-harm/instructions=['text', 'image'], self-harm=['text', 'image'], sexual/minors=['text'], violence/graphic=['text', 'image']), category_scores=CategoryScores(harassment=0.0005627540880904437, harassment_threatening=5.920916517463734e-06, hate=0.00011695102650555148, hate_threatening=4.98595821272702e-06, illicit=9.761566060239504e-06, illicit_violent=4.683888424952456e-06, self_harm=2.627477314480822e-06, self_harm_instructions=6.540437226933637e-07, self_harm_intent=2.1782649863110498e-06, sexual=4.1335397768930325e-06, sexual_minors=1.1478768127080353e-06, violence=7.0311842669149565e-06, violence_graphic=2.01456908529364e-06, harassment/threatening=5.920916517463734e-06, hate/threatening=4.98595821272702e-06, illicit/violent=4.683888424952456e-06, self-harm/intent=2.1782649863110498e-06, self-harm/instructions=6.540437226933637e-07, self-harm=2.627477314480822e-06, sexual/minors=1.1478768127080353e-06, violence/graphic=2.01456908529364e-06), flagged=False)])\n"
     ]
    }
   ],
   "source": [
    "response = client.moderations.create(\n",
    "    model=\"omni-moderation-latest\",\n",
    "    input=[\n",
    "        {\"type\": \"text\", \"text\": \"...text to classify goes here...\"},\n",
    "        {\n",
    "            \"type\": \"image_url\",\n",
    "            \"image_url\": {\n",
    "                \"url\": \"https://img.hankyung.com/photo/202306/PRU20230630076801009_P4.jpg\",\n",
    "                # can also use base64 encoded image URLs\n",
    "                # \"url\": \"data:image/jpeg;base64,abcdefg...\"\n",
    "            }\n",
    "        },\n",
    "    ],\n",
    ")\n",
    "\n",
    "print(response)"
   ]
  },
  {
   "cell_type": "code",
   "execution_count": null,
   "id": "b9cd59a4-3257-4533-bbe2-83f39e535183",
   "metadata": {},
   "outputs": [],
   "source": []
  }
 ],
 "metadata": {
  "kernelspec": {
   "display_name": "lecture",
   "language": "python",
   "name": "lecture"
  },
  "language_info": {
   "codemirror_mode": {
    "name": "ipython",
    "version": 3
   },
   "file_extension": ".py",
   "mimetype": "text/x-python",
   "name": "python",
   "nbconvert_exporter": "python",
   "pygments_lexer": "ipython3",
   "version": "3.11.7"
  }
 },
 "nbformat": 4,
 "nbformat_minor": 5
}
