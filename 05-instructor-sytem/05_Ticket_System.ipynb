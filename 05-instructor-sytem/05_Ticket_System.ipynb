{
 "cells": [
  {
   "cell_type": "markdown",
   "id": "a54df1b9-153e-4a2d-916b-355aeb66cd01",
   "metadata": {},
   "source": [
    "# Ticket System"
   ]
  },
  {
   "cell_type": "code",
   "execution_count": 1,
   "id": "57938558-ef4b-40c5-b1eb-065634f5f1af",
   "metadata": {
    "tags": []
   },
   "outputs": [],
   "source": [
    "import instructor\n",
    "from pydantic import BaseModel, Field\n",
    "from enum import Enum\n",
    "\n",
    "from openai import OpenAI\n",
    "from dotenv import load_dotenv\n",
    "import os\n",
    "\n",
    "load_dotenv()\n",
    "client = OpenAI(api_key=os.getenv(\"OPENAI_API_KEY\"))"
   ]
  },
  {
   "cell_type": "markdown",
   "id": "dad63090-4b59-42f9-8866-16fcb89e889e",
   "metadata": {},
   "source": [
    "## Ticket System: Structured Output"
   ]
  },
  {
   "cell_type": "code",
   "execution_count": 2,
   "id": "1c217b3a-6b36-4f30-9692-5fa92fff6e02",
   "metadata": {
    "tags": []
   },
   "outputs": [],
   "source": [
    "# Patch the OpenAI client\n",
    "client = instructor.from_openai(OpenAI())\n",
    "\n",
    "\n",
    "class TicketCategory(str, Enum):\n",
    "    \"\"\"수신 티켓의 카테고리 열거하기\"\"\"\n",
    "\n",
    "    GENERAL = \"general\"\n",
    "    ORDER = \"order\"\n",
    "    BILLING = \"billing\"\n",
    "\n",
    "\n",
    "class CustomerSentiment(str, Enum):\n",
    "    \"\"\"고객 감정 레이블의 열거하기\"\"\"\n",
    "\n",
    "    NEGATIVE = \"negative\"\n",
    "    NEUTRAL = \"neutral\"\n",
    "    POSITIVE = \"positive\"\n",
    "\n",
    "\n",
    "class Ticket(BaseModel):\n",
    "    reply: str = Field(description=\"Your reply that we send to the customer.\")\n",
    "    category: TicketCategory\n",
    "    confidence: float = Field(ge=0, le=1)\n",
    "    sentiment: CustomerSentiment\n",
    "\n",
    "\n",
    "def process_ticket(customer_message: str) -> Ticket:\n",
    "    reply = client.chat.completions.create(\n",
    "        model=\"gpt-4o-mini\",\n",
    "        response_model=Ticket,\n",
    "        max_retries=3,\n",
    "        messages=[\n",
    "            {\n",
    "                \"role\": \"system\",\n",
    "                \"content\": \"수신되는 고객 메시지를 분석하고 티켓의 값을 예측하세요.\",\n",
    "            },\n",
    "            {\"role\": \"user\", \"content\": customer_message},\n",
    "        ],\n",
    "    )\n",
    "\n",
    "    return reply"
   ]
  },
  {
   "cell_type": "markdown",
   "id": "6b1371c0-0689-4537-9a40-2757cabf72fc",
   "metadata": {},
   "source": [
    "## Billing Issue Example"
   ]
  },
  {
   "cell_type": "code",
   "execution_count": 3,
   "id": "ed1b8b9e-356f-41cc-be15-291baf9b5965",
   "metadata": {
    "tags": []
   },
   "outputs": [
    {
     "data": {
      "text/plain": [
       "<CustomerSentiment.NEUTRAL: 'neutral'>"
      ]
     },
     "execution_count": 3,
     "metadata": {},
     "output_type": "execute_result"
    }
   ],
   "source": [
    "ticket = process_ticket(\"안녕하세요, 청구서에 대한 질문이 있습니다. 도와주실 수 있나요?\")\n",
    "assert ticket.category == TicketCategory.BILLING\n",
    "\n",
    "ticket.reply\n",
    "ticket.category\n",
    "ticket.confidence\n",
    "ticket.sentiment"
   ]
  },
  {
   "cell_type": "markdown",
   "id": "9d5111f9-2c6b-40e8-85bb-8e0425b90893",
   "metadata": {},
   "source": [
    "## Order-Related Example"
   ]
  },
  {
   "cell_type": "code",
   "execution_count": 5,
   "id": "a18eee90-f115-48fb-98a7-90c98ca59a73",
   "metadata": {
    "tags": []
   },
   "outputs": [
    {
     "data": {
      "text/plain": [
       "<CustomerSentiment.POSITIVE: 'positive'>"
      ]
     },
     "execution_count": 5,
     "metadata": {},
     "output_type": "execute_result"
    }
   ],
   "source": [
    "ticket = process_ticket(\"주문하고 싶습니다.\")\n",
    "\n",
    "assert ticket.category == TicketCategory.ORDER\n",
    "\n",
    "ticket.reply\n",
    "ticket.category\n",
    "ticket.confidence\n",
    "ticket.sentiment"
   ]
  },
  {
   "cell_type": "code",
   "execution_count": 6,
   "id": "a1a720e2-8224-45b0-8ec0-55a9f4ba4903",
   "metadata": {
    "tags": []
   },
   "outputs": [
    {
     "data": {
      "text/plain": [
       "<CustomerSentiment.NEGATIVE: 'negative'>"
      ]
     },
     "execution_count": 6,
     "metadata": {},
     "output_type": "execute_result"
    }
   ],
   "source": [
    "ticket = process_ticket(\"물건에 하자가 있어 반품하고 싶습니다.\")\n",
    "\n",
    "assert ticket.category == TicketCategory.ORDER\n",
    "\n",
    "ticket.reply\n",
    "ticket.category\n",
    "ticket.confidence\n",
    "ticket.sentiment"
   ]
  }
 ],
 "metadata": {
  "kernelspec": {
   "display_name": "lecture",
   "language": "python",
   "name": "lecture"
  },
  "language_info": {
   "codemirror_mode": {
    "name": "ipython",
    "version": 3
   },
   "file_extension": ".py",
   "mimetype": "text/x-python",
   "name": "python",
   "nbconvert_exporter": "python",
   "pygments_lexer": "ipython3",
   "version": "3.11.7"
  }
 },
 "nbformat": 4,
 "nbformat_minor": 5
}
