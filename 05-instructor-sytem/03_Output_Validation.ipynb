{
 "cells": [
  {
   "cell_type": "markdown",
   "id": "93f926c7-632a-49bf-bfce-258287fb006c",
   "metadata": {},
   "source": [
    "# Output Validation"
   ]
  },
  {
   "cell_type": "code",
   "execution_count": 1,
   "id": "84f4e538-613e-4e0d-8120-2d113d5488fd",
   "metadata": {
    "tags": []
   },
   "outputs": [],
   "source": [
    "import instructor\n",
    "from pydantic import BaseModel, Field\n",
    "from enum import Enum\n",
    "\n",
    "from openai import OpenAI\n",
    "from dotenv import load_dotenv\n",
    "import os\n",
    "\n",
    "load_dotenv()\n",
    "client = OpenAI(api_key=os.getenv(\"OPENAI_API_KEY\"))"
   ]
  },
  {
   "cell_type": "markdown",
   "id": "2a532bf7-2fd8-4293-8c4d-ada82c8fa8f5",
   "metadata": {},
   "source": [
    " ## Instructor Retry Example with Enum Category"
   ]
  },
  {
   "cell_type": "code",
   "execution_count": 2,
   "id": "fca24f2d-087e-4e98-b856-f735ee923322",
   "metadata": {
    "tags": []
   },
   "outputs": [],
   "source": [
    "client = instructor.from_openai(OpenAI())\n",
    "\n",
    "query = \"안녕하세요, 청구서에 대한 질문이 있습니다. 도와주실 수 있나요?\"\n",
    "\n",
    "class TicketCategory(str, Enum):\n",
    "    \"\"\"Enumeration of categories for incoming tickets.\"\"\"\n",
    "    GENERAL = \"general\"\n",
    "    ORDER = \"order\"\n",
    "    BILLING = \"billing\"\n",
    "    BANANA = \"banana\"  # 추가: 시스템 지시에 따른 'banana' 허용\n",
    "\n",
    "# Define your desired output structure using Pydantic\n",
    "class Reply(BaseModel):\n",
    "    content: str = Field(description=\"고객에게 보내는 회신입니다.\")\n",
    "    category: TicketCategory\n",
    "    confidence: float = Field(\n",
    "        ge=1, le=100, description=\"카테고리 예측에 대한 신뢰도.\"\n",
    "    )\n",
    "\n",
    "MODEL = \"gpt-4o-mini\"  # 올바른 모델 이름 사용\n",
    "\n",
    "# 첫 번째 호출: max_retries=1 (재시도 없이)\n",
    "reply = client.chat.completions.create(\n",
    "    model=MODEL,\n",
    "    response_model=Reply,\n",
    "    max_retries=1,\n",
    "    messages=[\n",
    "        {\n",
    "            \"role\": \"system\",\n",
    "            \"content\": \"수신 메시지를 분류하고 답변을 작성할 수 있는 유용한 고객 관리 도우미입니다. 카테고리는 항상 'banana'로 설정하세요.\",\n",
    "        },\n",
    "        {\"role\": \"user\", \"content\": query},\n",
    "    ],\n",
    ")\n",
    "\n",
    "# 두 번째 호출: max_retries=3 (최대 3회 재시도)\n",
    "reply = client.chat.completions.create(\n",
    "    model=MODEL,\n",
    "    response_model=Reply,\n",
    "    max_retries=3,\n",
    "    messages=[\n",
    "        {\n",
    "            \"role\": \"system\",\n",
    "            \"content\": \"수신 메시지를 분류하고 답변을 작성할 수 있는 유용한 고객 관리 도우미입니다. 카테고리는 항상 'banana'로 설정하세요..\",\n",
    "        },\n",
    "        {\"role\": \"user\", \"content\": query},\n",
    "    ],\n",
    ")"
   ]
  },
  {
   "cell_type": "markdown",
   "id": "538a550e-0e77-4bed-a05a-0dd066af5810",
   "metadata": {},
   "source": [
    "## Instructor Retry Example with Confidence Score"
   ]
  },
  {
   "cell_type": "code",
   "execution_count": 3,
   "id": "2663a0f7-8f29-416a-b911-9b65b12345dd",
   "metadata": {
    "tags": []
   },
   "outputs": [],
   "source": [
    "# 첫 번째 호출: max_retries=1\n",
    "reply = client.chat.completions.create(\n",
    "    model=MODEL,\n",
    "    response_model=Reply,\n",
    "    max_retries=1,\n",
    "    messages=[\n",
    "        {\n",
    "            \"role\": \"system\",\n",
    "            \"content\": \"수신 메시지를 분류하고 응답을 작성할 수 있는 유용한 고객 관리 도우미입니다. 1~100 사이의 신뢰도를 설정합니다.\",\n",
    "        },\n",
    "        {\"role\": \"user\", \"content\": query},\n",
    "    ],\n",
    ")\n",
    "\n",
    "# 두 번째 호출: max_retries=3\n",
    "reply = client.chat.completions.create(\n",
    "    model=MODEL,\n",
    "    response_model=Reply,\n",
    "    max_retries=3,\n",
    "    messages=[\n",
    "        {\n",
    "            \"role\": \"system\",\n",
    "            \"content\": \"수신 메시지를 분류하고 응답을 작성할 수 있는 유용한 고객 관리 도우미입니다. 1~100 사이의 신뢰도를 설정합니다.\",\n",
    "        },\n",
    "        {\"role\": \"user\", \"content\": query},\n",
    "    ],\n",
    ")"
   ]
  }
 ],
 "metadata": {
  "kernelspec": {
   "display_name": "lecture",
   "language": "python",
   "name": "lecture"
  },
  "language_info": {
   "codemirror_mode": {
    "name": "ipython",
    "version": 3
   },
   "file_extension": ".py",
   "mimetype": "text/x-python",
   "name": "python",
   "nbconvert_exporter": "python",
   "pygments_lexer": "ipython3",
   "version": "3.11.7"
  }
 },
 "nbformat": 4,
 "nbformat_minor": 5
}
