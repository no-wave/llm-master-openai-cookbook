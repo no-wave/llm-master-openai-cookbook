{
 "cells": [
  {
   "cell_type": "markdown",
   "id": "498ad252-93c2-4774-962d-f0ff7faaa24f",
   "metadata": {},
   "source": [
    "# Pydantic"
   ]
  },
  {
   "cell_type": "markdown",
   "id": "afc572c0-e241-4e52-8fd0-9af07e505999",
   "metadata": {},
   "source": [
    "## 1. Parsing Strings\n",
    "Pydantic은 문자열 변환을 위한 올바른 유형을 알아냅니다. 처음 사용했을 때는 데이터를 수동으로 변환한 후 Pydantic 모델에 전달하기 위해 여러 가지 이상한 방법을 시도했습니다. \n",
    "Pydantic은 이를 자동으로 처리하여 많은 수고를 덜어주었습니다.다음은 그 예입니다:"
   ]
  },
  {
   "cell_type": "code",
   "execution_count": 1,
   "id": "5b1609e2-275b-4ced-bd5f-4d57ae30810c",
   "metadata": {
    "tags": []
   },
   "outputs": [
    {
     "name": "stdout",
     "output_type": "stream",
     "text": [
      "integer_field=42 float_field=3.1415 date_field=datetime.date(2021, 12, 31)\n",
      "<class 'int'>\n",
      "<class 'float'>\n",
      "<class 'datetime.date'>\n"
     ]
    }
   ],
   "source": [
    "from pydantic import BaseModel\n",
    "from datetime import date\n",
    "\n",
    "class MyModel(BaseModel):\n",
    "    integer_field: int\n",
    "    float_field: float\n",
    "    date_field: date\n",
    "\n",
    "data = {\n",
    "    \"integer_field\": \"42\",\n",
    "    \"float_field\": \"3.1415\",\n",
    "    \"date_field\": \"2021-12-31\"\n",
    "}\n",
    "\n",
    "model = MyModel(**data)\n",
    "print(model)\n",
    "# integer_field=42 float_field=3.1415 date_field=datetime.date(2021, 12, 31)\n",
    "print(type(model.integer_field))\n",
    "# <class 'int'>\n",
    "print(type(model.float_field))\n",
    "# <class 'float'>\n",
    "print(type(model.date_field))\n",
    "# <class 'datetime.date'>"
   ]
  },
  {
   "cell_type": "markdown",
   "id": "ae021b81-90b3-4f6f-99e6-46a70084d142",
   "metadata": {},
   "source": [
    "## 2. Generating JSON Schemas\n",
    "저는 LLM을 많이 사용하는데, 도구 정의와 구조화된 출력을 위해서는 JSON 스키마를 정의해야 했습니다. 처음에는 수동으로 정의했지만, Pydantic 모델을 생성하고 이를 통해 스키마를 쉽게 생성할 수 있다는 사실을 알게 되었습니다. 다음 스니펫에서 볼 수 있듯이 매우 간단합니다:"
   ]
  },
  {
   "cell_type": "code",
   "execution_count": 2,
   "id": "7db50279-61fc-4d4d-b5ad-0f9ec547e142",
   "metadata": {
    "tags": []
   },
   "outputs": [
    {
     "name": "stdout",
     "output_type": "stream",
     "text": [
      "{\n",
      "  \"$defs\": {\n",
      "    \"Parameter\": {\n",
      "      \"properties\": {\n",
      "        \"name\": {\n",
      "          \"title\": \"Name\",\n",
      "          \"type\": \"string\"\n",
      "        },\n",
      "        \"type\": {\n",
      "          \"title\": \"Type\",\n",
      "          \"type\": \"string\"\n",
      "        },\n",
      "        \"required\": {\n",
      "          \"default\": true,\n",
      "          \"title\": \"Required\",\n",
      "          \"type\": \"boolean\"\n",
      "        }\n",
      "      },\n",
      "      \"required\": [\n",
      "        \"name\",\n",
      "        \"type\"\n",
      "      ],\n",
      "      \"title\": \"Parameter\",\n",
      "      \"type\": \"object\"\n",
      "    }\n",
      "  },\n",
      "  \"properties\": {\n",
      "    \"tool_name\": {\n",
      "      \"title\": \"Tool Name\",\n",
      "      \"type\": \"string\"\n",
      "    },\n",
      "    \"version\": {\n",
      "      \"anyOf\": [\n",
      "        {\n",
      "          \"type\": \"string\"\n",
      "        },\n",
      "        {\n",
      "          \"type\": \"null\"\n",
      "        }\n",
      "      ],\n",
      "      \"default\": null,\n",
      "      \"title\": \"Version\"\n",
      "    },\n",
      "    \"parameters\": {\n",
      "      \"items\": {\n",
      "        \"$ref\": \"#/$defs/Parameter\"\n",
      "      },\n",
      "      \"title\": \"Parameters\",\n",
      "      \"type\": \"array\"\n",
      "    }\n",
      "  },\n",
      "  \"required\": [\n",
      "    \"tool_name\",\n",
      "    \"parameters\"\n",
      "  ],\n",
      "  \"title\": \"Tool\",\n",
      "  \"type\": \"object\"\n",
      "}\n"
     ]
    }
   ],
   "source": [
    "from pydantic import BaseModel\n",
    "from typing import List, Optional\n",
    "import json\n",
    "\n",
    "class Parameter(BaseModel):\n",
    "    name: str\n",
    "    type: str\n",
    "    required: bool = True\n",
    "\n",
    "class Tool(BaseModel):\n",
    "    tool_name: str\n",
    "    version: Optional[str] = None\n",
    "    parameters: List[Parameter]\n",
    "\n",
    "# Generate JSON schema\n",
    "schema_dict = Tool.model_json_schema()\n",
    "schema_json = json.dumps(schema_dict, indent=2)\n",
    "print(schema_json)"
   ]
  },
  {
   "cell_type": "markdown",
   "id": "4ff3723e-bda5-4075-ad93-7e7bc81ebf95",
   "metadata": {},
   "source": [
    "## 3. Partial JSON Parsing\n",
    "이는 LLM에서 JSON 응답을 스트리밍할 때 출력의 유효성을 검사하거나 구문 분석해야 할 때 매우 유용합니다. 전체 응답을 기다리는 대신 부분 데이터를 구문 분석하여 유효한 결과를 얻을 수 있습니다. 다음은 JSON 문자열의 부분 구문 분석을 허용하는 간단한 예제입니다."
   ]
  },
  {
   "cell_type": "code",
   "execution_count": 5,
   "id": "e206e50b-8be8-4536-ba93-3cb3b8eaf045",
   "metadata": {
    "tags": []
   },
   "outputs": [
    {
     "ename": "NameError",
     "evalue": "name 'from_json' is not defined",
     "output_type": "error",
     "traceback": [
      "\u001b[0;31m---------------------------------------------------------------------------\u001b[0m",
      "\u001b[0;31mNameError\u001b[0m                                 Traceback (most recent call last)",
      "Cell \u001b[0;32mIn[5], line 3\u001b[0m\n\u001b[1;32m      1\u001b[0m partial_json_data \u001b[38;5;241m=\u001b[39m \u001b[38;5;124m'\u001b[39m\u001b[38;5;124m[\u001b[39m\u001b[38;5;124m\"\u001b[39m\u001b[38;5;124maa\u001b[39m\u001b[38;5;124m\"\u001b[39m\u001b[38;5;124m, \u001b[39m\u001b[38;5;124m\"\u001b[39m\u001b[38;5;124mbb\u001b[39m\u001b[38;5;124m\"\u001b[39m\u001b[38;5;124m, \u001b[39m\u001b[38;5;124m\"\u001b[39m\u001b[38;5;124mc\u001b[39m\u001b[38;5;124m'\u001b[39m\n\u001b[0;32m----> 3\u001b[0m result \u001b[38;5;241m=\u001b[39m from_json(partial_json_data, allow_partial\u001b[38;5;241m=\u001b[39m\u001b[38;5;28;01mTrue\u001b[39;00m)\n\u001b[1;32m      4\u001b[0m \u001b[38;5;28mprint\u001b[39m(result)\n",
      "\u001b[0;31mNameError\u001b[0m: name 'from_json' is not defined"
     ]
    }
   ],
   "source": [
    "partial_json_data = '[\"aa\", \"bb\", \"c'\n",
    "\n",
    "result = from_json(partial_json_data, allow_partial=True)\n",
    "print(result)\n",
    "# ['aa', 'bb']"
   ]
  },
  {
   "cell_type": "markdown",
   "id": "208e5f4c-a18b-4dc5-89c8-eb7312f457c4",
   "metadata": {},
   "source": [
    "## 4. Partial Pydantic Model\n",
    "\n",
    "이 기능은 LLM 작업에 매우 유용하며 부분 JSON 구문 분석과 잘 작동합니다. Pydantic 모델의 필드를 선택 사항으로 만들 수 있으므로 나머지 데이터가 스트리밍되기를 기다리는 동안 JSON을 부분적으로 파싱하여 모델의 인스턴스로 변환할 수 있습니다.저는 Pydantic 모델의 모든 필드를 선택 사항으로 만드는 이 '트릭'을 생각해낸 adriangb로부터 이 방법을 배웠습니다. 예제에서 볼 수 있듯이 오류 없이 하나의 필드만 전달할 수 있습니다. 스트리밍 컨텍스트에서는 워크플로우에서 이미 구문 분석된 필드를 사용하여 지연 시간을 줄일 수 있습니다. 이에 대한 자세한 내용은 곧 블로그를 작성할 예정이니 기대해 주세요."
   ]
  },
  {
   "cell_type": "code",
   "execution_count": 6,
   "id": "adda0413-24cc-4e29-8689-101f3f996ef6",
   "metadata": {
    "tags": []
   },
   "outputs": [
    {
     "name": "stdout",
     "output_type": "stream",
     "text": [
      "first_name='Adrian' last_name=None\n"
     ]
    }
   ],
   "source": [
    "from copy import deepcopy\n",
    "from typing import Any, Optional, Tuple, Type, TypeVar\n",
    "\n",
    "from pydantic import BaseModel, create_model\n",
    "from pydantic.fields import FieldInfo\n",
    "\n",
    "class User(BaseModel):\n",
    "  first_name: str\n",
    "  last_name: str\n",
    "\n",
    "def make_field_optional(field: FieldInfo, default: Any = None) -> Tuple[Any, FieldInfo]:\n",
    "  new = deepcopy(field)\n",
    "  new.default = default\n",
    "  new.annotation = Optional[field.annotation]  # type: ignore\n",
    "  return (new.annotation, new)\n",
    "\n",
    "BaseModelT = TypeVar('BaseModelT', bound=BaseModel)\n",
    "\n",
    "def make_partial_model(model: Type[BaseModelT]) -> Type[BaseModelT]:\n",
    "  return create_model(  # type: ignore\n",
    "    f'Partial{model.__name__}',\n",
    "    __base__=User,\n",
    "    __module__=User.__module__,\n",
    "    **{\n",
    "        field_name: make_field_optional(field_info)\n",
    "        for field_name, field_info in User.model_fields.items()\n",
    "    }\n",
    "    )\n",
    "\n",
    "PartialUser = make_partial_model(User)\n",
    "\n",
    "print(PartialUser(first_name='Adrian'))\n",
    "#> first_name='Adrian' last_name=None"
   ]
  },
  {
   "cell_type": "markdown",
   "id": "9db0f35c-4f75-46ef-a1cb-fd77e48e2175",
   "metadata": {},
   "source": [
    "## 5. Add Extra Configuration to Your Schemas\n",
    "LLM 에이전트에서 이 기능이 구현된 것을 봤는데, 기능 2번의 확장판과 비슷합니다. 기본적으로 Pydantic 모델의 JSON 스키마를 확장하여 더 많은 정보를 제공할 수 있습니다. 이는 짧은 예시를 LLM에 전달하려는 경우에 유용합니다. 긴 프롬프트를 만드는 대신 스키마에 추가하기만 하면 자동으로 LLM에 전달됩니다.방법은 다음과 같습니다:"
   ]
  },
  {
   "cell_type": "code",
   "execution_count": 15,
   "id": "a40b5a4b-2994-4681-9164-c570dc4deb3d",
   "metadata": {
    "tags": []
   },
   "outputs": [
    {
     "name": "stdout",
     "output_type": "stream",
     "text": [
      "{\n",
      "  \"예시\": [\n",
      "    {\n",
      "      \"답변\": \"`filter()` 함수는 함수가 참을 반환하는 이터러블의 요소로부터 이터레이터를 구성합니다.\",\n",
      "      \"질문\": \"파이썬 `filter()` 함수는 어떻게 작동하나요?\"\n",
      "    },\n",
      "    {\n",
      "      \"답변\": \"polymorphism은 서로 다른 클래스의 객체를 공통 슈퍼 클래스의 객체로 취급하여 단일 인터페이스가 서로 다른 기본 형태를 나타낼 수 있도록합니다.\",\n",
      "      \"질문\": \"객체 지향 프로그래밍에서 polymorphism이란 무엇인가요?\"\n",
      "    },\n",
      "    {\n",
      "      \"답변\": \"재귀는 동일한 문제의 작은 인스턴스를 해결하기 위해 함수가 스스로를 호출하는 프로그래밍 기법입니다.\",\n",
      "      \"질문\": \"재귀의 개념을 설명해 주시겠어요?\"\n",
      "    }\n",
      "  ],\n",
      "  \"속성\": {\n",
      "    \"질문\": {\n",
      "      \"제목\": \"Question\",\n",
      "      \"유형\": \"string\"\n",
      "    },\n",
      "    \"답변\": {\n",
      "      \"제목\": \"Answer\",\n",
      "      \"유형\": \"string\"\n",
      "    }\n",
      "  },\n",
      "  \"필수항목\": [\n",
      "    \"question\",\n",
      "    \"answer\"\n",
      "  ],\n",
      "  \"제목\": \"QAEntry\",\n",
      "  \"유형\": \"object\"\n",
      "}\n"
     ]
    }
   ],
   "source": [
    "from pydantic import BaseModel, ConfigDict\n",
    "import json\n",
    "\n",
    "class QAEntry(BaseModel):\n",
    "    question: str\n",
    "    answer: str\n",
    "\n",
    "    model_config = ConfigDict(\n",
    "        json_schema_extra={\n",
    "            \"examples\": [\n",
    "                {\n",
    "                    \"question\": \"파이썬 `filter()` 함수는 어떻게 작동하나요?\",\n",
    "                    \"answer\": \"`filter()` 함수는 함수가 참을 반환하는 이터러블의 요소로부터 이터레이터를 구성합니다.\"\n",
    "                },\n",
    "                {\n",
    "                    \"question\": \"객체 지향 프로그래밍에서 polymorphism이란 무엇인가요?\",\n",
    "                    \"answer\": \"polymorphism은 서로 다른 클래스의 객체를 공통 슈퍼 클래스의 객체로 취급하여 단일 인터페이스가 서로 다른 기본 형태를 나타낼 수 있도록합니다.\"\n",
    "                },\n",
    "                {\n",
    "                    \"question\": \"재귀의 개념을 설명해 주시겠어요?\",\n",
    "                    \"answer\": \"재귀는 동일한 문제의 작은 인스턴스를 해결하기 위해 함수가 스스로를 호출하는 프로그래밍 기법입니다.\"\n",
    "                }\n",
    "            ]\n",
    "        }\n",
    "    )\n",
    "\n",
    "# 영어 키를 한글 키로 바꾸는 매핑\n",
    "key_translation = {\n",
    "    \"title\": \"제목\",\n",
    "    \"type\": \"유형\",\n",
    "    \"properties\": \"속성\",\n",
    "    \"question\": \"질문\",\n",
    "    \"answer\": \"답변\",\n",
    "    \"examples\": \"예시\",\n",
    "    \"required\": \"필수항목\",\n",
    "    \"type\": \"유형\",\n",
    "}\n",
    "\n",
    "# 재귀적으로 키 이름을 한글로 변환\n",
    "def translate_keys(obj):\n",
    "    if isinstance(obj, dict):\n",
    "        return {\n",
    "            key_translation.get(k, k): translate_keys(v)\n",
    "            for k, v in obj.items()\n",
    "        }\n",
    "    elif isinstance(obj, list):\n",
    "        return [translate_keys(i) for i in obj]\n",
    "    else:\n",
    "        return obj\n",
    "\n",
    "# 원본 스키마 → 키 한글 변환 → JSON 문자열 출력\n",
    "schema_dict = QAEntry.model_json_schema()\n",
    "translated_schema = translate_keys(schema_dict)\n",
    "schema_json = json.dumps(translated_schema, indent=2, ensure_ascii=False)\n",
    "print(schema_json)"
   ]
  }
 ],
 "metadata": {
  "kernelspec": {
   "display_name": "lecture",
   "language": "python",
   "name": "lecture"
  },
  "language_info": {
   "codemirror_mode": {
    "name": "ipython",
    "version": 3
   },
   "file_extension": ".py",
   "mimetype": "text/x-python",
   "name": "python",
   "nbconvert_exporter": "python",
   "pygments_lexer": "ipython3",
   "version": "3.11.7"
  }
 },
 "nbformat": 4,
 "nbformat_minor": 5
}
